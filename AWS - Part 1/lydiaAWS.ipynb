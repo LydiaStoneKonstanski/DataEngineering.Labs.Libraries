{
 "cells": [
  {
   "cell_type": "code",
   "execution_count": 4,
   "id": "bf225a7e-45d9-4691-af39-3c23f5c2e2d2",
   "metadata": {},
   "outputs": [],
   "source": [
    "import boto3"
   ]
  },
  {
   "cell_type": "code",
   "execution_count": 5,
   "id": "170660f4-9ffa-42bf-9949-dcbe129b1c32",
   "metadata": {},
   "outputs": [],
   "source": [
    "s3 = boto3.client('s3')"
   ]
  },
  {
   "cell_type": "code",
   "execution_count": 6,
   "id": "ecc851a8-638d-4f84-8de6-a4687db4433e",
   "metadata": {},
   "outputs": [
    {
     "data": {
      "text/plain": [
       "{'ResponseMetadata': {'RequestId': '3YFS00E1XZGZFHYZ',\n",
       "  'HostId': 'l3IuWURsBoTeU1TD/sNri/rftkkiSbOYRIkDLhwOwXi6xOfWnXD2G0iZu7PXyOkD5aM7vzeODBI=',\n",
       "  'HTTPStatusCode': 200,\n",
       "  'HTTPHeaders': {'x-amz-id-2': 'l3IuWURsBoTeU1TD/sNri/rftkkiSbOYRIkDLhwOwXi6xOfWnXD2G0iZu7PXyOkD5aM7vzeODBI=',\n",
       "   'x-amz-request-id': '3YFS00E1XZGZFHYZ',\n",
       "   'date': 'Sun, 14 Apr 2024 16:29:19 GMT',\n",
       "   'location': '/the.best.zipcode.bucket.there.ever.was',\n",
       "   'server': 'AmazonS3',\n",
       "   'content-length': '0'},\n",
       "  'RetryAttempts': 0},\n",
       " 'Location': '/the.best.zipcode.bucket.there.ever.was'}"
      ]
     },
     "execution_count": 6,
     "metadata": {},
     "output_type": "execute_result"
    }
   ],
   "source": [
    "s3.create_bucket(Bucket=\"the.best.zipcode.bucket.there.ever.was\")\n"
   ]
  },
  {
   "cell_type": "code",
   "execution_count": 7,
   "id": "48d6323d-b018-434b-a098-6b942a4559bf",
   "metadata": {},
   "outputs": [
    {
     "name": "stdout",
     "output_type": "stream",
     "text": [
      "best.darn.zipcode.bucket\n",
      "the.best.zipcode.bucket.there.ever.was\n"
     ]
    }
   ],
   "source": [
    "buckets = s3.list_buckets()\n",
    "for i in buckets['Buckets']:\n",
    "    print (i['Name'])"
   ]
  },
  {
   "cell_type": "code",
   "execution_count": 8,
   "id": "18b37e9e-1b2c-46d7-8911-a1c612ebf2e0",
   "metadata": {},
   "outputs": [],
   "source": [
    "s3.upload_file(Filename='hello world.rtf', Bucket=\"the.best.zipcode.bucket.there.ever.was\", Key=\"hello world\")"
   ]
  },
  {
   "cell_type": "code",
   "execution_count": 9,
   "id": "868b13d1-3e26-4fcc-acf0-c09eab9041ca",
   "metadata": {},
   "outputs": [
    {
     "data": {
      "text/plain": [
       "{'ResponseMetadata': {'RequestId': 'HZQCGS241A0542CC',\n",
       "  'HostId': 'hb2GdGRMAinNPBuD5VopIB9o7hOSnYwk95P2AexzDA7vPwq5FD29AwGXF4Qa1OP+KLHvWY2LEVs=',\n",
       "  'HTTPStatusCode': 200,\n",
       "  'HTTPHeaders': {'x-amz-id-2': 'hb2GdGRMAinNPBuD5VopIB9o7hOSnYwk95P2AexzDA7vPwq5FD29AwGXF4Qa1OP+KLHvWY2LEVs=',\n",
       "   'x-amz-request-id': 'HZQCGS241A0542CC',\n",
       "   'date': 'Sun, 14 Apr 2024 16:30:15 GMT',\n",
       "   'x-amz-bucket-region': 'us-east-1',\n",
       "   'content-type': 'application/xml',\n",
       "   'transfer-encoding': 'chunked',\n",
       "   'server': 'AmazonS3'},\n",
       "  'RetryAttempts': 0},\n",
       " 'IsTruncated': False,\n",
       " 'Marker': '',\n",
       " 'Contents': [{'Key': 'hello world',\n",
       "   'LastModified': datetime.datetime(2024, 4, 14, 16, 29, 56, tzinfo=tzutc()),\n",
       "   'ETag': '\"c1cbd445d50ae809918d4997cc9fc78c\"',\n",
       "   'Size': 378,\n",
       "   'StorageClass': 'STANDARD',\n",
       "   'Owner': {'DisplayName': 'lkonstanski',\n",
       "    'ID': '283a9a103403d6d1913ce7e8af79ddedbd0b89ebff23941611ad81402c300a7d'}}],\n",
       " 'Name': 'the.best.zipcode.bucket.there.ever.was',\n",
       " 'Prefix': '',\n",
       " 'MaxKeys': 1000,\n",
       " 'EncodingType': 'url'}"
      ]
     },
     "execution_count": 9,
     "metadata": {},
     "output_type": "execute_result"
    }
   ],
   "source": [
    "response = s3.list_objects(Bucket='the.best.zipcode.bucket.there.ever.was')\n",
    "response"
   ]
  },
  {
   "cell_type": "code",
   "execution_count": 10,
   "id": "24e6136c-4c9f-434c-b150-719d91452fc1",
   "metadata": {},
   "outputs": [
    {
     "data": {
      "text/plain": [
       "{'ResponseMetadata': {'RequestId': 'SBES8P4YFMDWBT8M',\n",
       "  'HostId': 'tm45Qtv86kRHCWqgDeA1uq1iF/YQxg+xwn2wxpJBDN35dzMn40EluasmLgiM9AwnTuWpZb6GGXI=',\n",
       "  'HTTPStatusCode': 204,\n",
       "  'HTTPHeaders': {'x-amz-id-2': 'tm45Qtv86kRHCWqgDeA1uq1iF/YQxg+xwn2wxpJBDN35dzMn40EluasmLgiM9AwnTuWpZb6GGXI=',\n",
       "   'x-amz-request-id': 'SBES8P4YFMDWBT8M',\n",
       "   'date': 'Sun, 14 Apr 2024 16:30:35 GMT',\n",
       "   'server': 'AmazonS3'},\n",
       "  'RetryAttempts': 0}}"
      ]
     },
     "execution_count": 10,
     "metadata": {},
     "output_type": "execute_result"
    }
   ],
   "source": [
    "delete = s3.delete_object(\n",
    "    Bucket='the.best.zipcode.bucket.there.ever.was',\n",
    "    Key='hello world')\n",
    "\n",
    "delete\n"
   ]
  },
  {
   "cell_type": "code",
   "execution_count": 11,
   "id": "e3cfc617-7cf1-4c03-b885-756d5fcb7d83",
   "metadata": {},
   "outputs": [
    {
     "data": {
      "text/plain": [
       "{'ResponseMetadata': {'RequestId': '74D69S4V9C3MJEPW',\n",
       "  'HostId': '/RbdirtYaL2eZqCWvw105nn2tjyCl5WRiae1VhBUSIGOuQP2WTGRtlsrqrvTDCo/DubAdjABERM=',\n",
       "  'HTTPStatusCode': 200,\n",
       "  'HTTPHeaders': {'x-amz-id-2': '/RbdirtYaL2eZqCWvw105nn2tjyCl5WRiae1VhBUSIGOuQP2WTGRtlsrqrvTDCo/DubAdjABERM=',\n",
       "   'x-amz-request-id': '74D69S4V9C3MJEPW',\n",
       "   'date': 'Sun, 14 Apr 2024 16:30:49 GMT',\n",
       "   'x-amz-bucket-region': 'us-east-1',\n",
       "   'content-type': 'application/xml',\n",
       "   'transfer-encoding': 'chunked',\n",
       "   'server': 'AmazonS3'},\n",
       "  'RetryAttempts': 0},\n",
       " 'IsTruncated': False,\n",
       " 'Marker': '',\n",
       " 'Name': 'the.best.zipcode.bucket.there.ever.was',\n",
       " 'Prefix': '',\n",
       " 'MaxKeys': 1000,\n",
       " 'EncodingType': 'url'}"
      ]
     },
     "execution_count": 11,
     "metadata": {},
     "output_type": "execute_result"
    }
   ],
   "source": [
    "check = s3.list_objects(Bucket='the.best.zipcode.bucket.there.ever.was')\n",
    "check"
   ]
  },
  {
   "cell_type": "code",
   "execution_count": 12,
   "id": "95d4fc25-590e-4dd1-8670-11f478087dc1",
   "metadata": {},
   "outputs": [],
   "source": [
    "goodbye_bucket = s3.delete_bucket(Bucket='the.best.zipcode.bucket.there.ever.was')"
   ]
  },
  {
   "cell_type": "raw",
   "id": "eb677daa-f7f7-4160-989d-3a3ea23d0725",
   "metadata": {},
   "source": [
    "!cd /Users/lydia/aws-cli-env"
   ]
  },
  {
   "cell_type": "raw",
   "id": "1e6d32b6-f8ce-4c62-9dc3-1457aff1c31a",
   "metadata": {},
   "source": [
    "!ssh -i DataE.pem ubuntu@54.221.164.85"
   ]
  },
  {
   "cell_type": "code",
   "execution_count": null,
   "id": "91451cc2-03a6-42c2-bdfe-45eb5a0bc7eb",
   "metadata": {},
   "outputs": [],
   "source": []
  }
 ],
 "metadata": {
  "kernelspec": {
   "display_name": "Python 3 (ipykernel)",
   "language": "python",
   "name": "python3"
  },
  "language_info": {
   "codemirror_mode": {
    "name": "ipython",
    "version": 3
   },
   "file_extension": ".py",
   "mimetype": "text/x-python",
   "name": "python",
   "nbconvert_exporter": "python",
   "pygments_lexer": "ipython3",
   "version": "3.12.2"
  }
 },
 "nbformat": 4,
 "nbformat_minor": 5
}
