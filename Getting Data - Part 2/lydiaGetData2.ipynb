{
 "cells": [
  {
   "cell_type": "code",
   "execution_count": 1,
   "id": "d696c124-7fc1-42b5-bbf6-443913fdd23a",
   "metadata": {},
   "outputs": [],
   "source": [
    "import pandas as pd\n",
    "import requests\n",
    "import json"
   ]
  },
  {
   "cell_type": "code",
   "execution_count": null,
   "id": "3137eb47-dbfa-46c8-a1ab-711ba545494c",
   "metadata": {},
   "outputs": [],
   "source": [
    "response = requests.get(\"https://phl.carto.com/api/v2/sql?q=SELECT * FROM incidents_part1_part2 WHERE dispatch_date_time >= '2019-01-01'\")"
   ]
  },
  {
   "cell_type": "code",
   "execution_count": 4,
   "id": "2adb9959-9f4b-4c95-a5bb-549383d4c380",
   "metadata": {},
   "outputs": [],
   "source": [
    "def get_data(url):\n",
    "    response = requests.get(url)\n",
    "    if response.status_code == 200:\n",
    "        content  = response.content\n",
    "        response_dict = json.loads(content)\n",
    "        data = pd.DataFrame(response_dict['observations'])\n",
    "    else:\n",
    "        print('Sorry - this call failed. Please check your URL.')\n",
    "        \n",
    "    return data"
   ]
  },
  {
   "cell_type": "code",
   "execution_count": null,
   "id": "b24e7a16-1d17-477e-af5f-502eb8015a72",
   "metadata": {},
   "outputs": [],
   "source": [
    "url = https://gcp-us-east1.api.carto.com"
   ]
  }
 ],
 "metadata": {
  "kernelspec": {
   "display_name": "Python 3 (ipykernel)",
   "language": "python",
   "name": "python3"
  },
  "language_info": {
   "codemirror_mode": {
    "name": "ipython",
    "version": 3
   },
   "file_extension": ".py",
   "mimetype": "text/x-python",
   "name": "python",
   "nbconvert_exporter": "python",
   "pygments_lexer": "ipython3",
   "version": "3.12.2"
  }
 },
 "nbformat": 4,
 "nbformat_minor": 5
}
