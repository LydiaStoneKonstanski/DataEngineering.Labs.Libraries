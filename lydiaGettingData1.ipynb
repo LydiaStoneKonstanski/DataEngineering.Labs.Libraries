{
 "cells": [
  {
   "cell_type": "code",
   "execution_count": 1,
   "id": "5755472d-4fdf-4c93-a61d-eb5142ed61fe",
   "metadata": {},
   "outputs": [],
   "source": [
    "import pandas as pd\n",
    "import requests\n",
    "import json\n",
    "import seaborn as sns\n",
    "import matplotlib.pyplot as plt\n",
    "%matplotlib inline"
   ]
  },
  {
   "cell_type": "markdown",
   "id": "ff3e1b14-2d29-4a0b-87c1-a77a9559ddb5",
   "metadata": {},
   "source": [
    "To get an API key\n",
    "Read the API documentation a bit to understand how to call it\n",
    "Test it a few times and read the responses manually to get comfortable with it\n",
    "If you're going to pull lots of data, make sure to take a peek at the site's robots.txt file (these files are always found in the base directory: https://fred.stlouisfed.org/robots.txt)."
   ]
  },
  {
   "cell_type": "code",
   "execution_count": 2,
   "id": "f72ae1f3-9cd9-4408-b4a1-b00409d92957",
   "metadata": {},
   "outputs": [],
   "source": [
    "mykey = '6e7c6060e43aa6909fb2a7d3fb4f3473'"
   ]
  },
  {
   "cell_type": "code",
   "execution_count": 3,
   "id": "0f6c2ec7-026b-44f9-a66b-0fcef3dcc931",
   "metadata": {},
   "outputs": [],
   "source": [
    "unemployment_id = 'DEUR'"
   ]
  },
  {
   "cell_type": "markdown",
   "id": "781da1dc-4652-4c8a-bf6a-bada40bcd2c8",
   "metadata": {},
   "source": [
    "Create a base url to call. This should end at 'observations?'"
   ]
  },
  {
   "cell_type": "code",
   "execution_count": 4,
   "id": "8e724272-521b-42b7-9e6c-4df76ffaacdc",
   "metadata": {},
   "outputs": [],
   "source": [
    "base = 'https://api.stlouisfed.org/fred/series/observations?'"
   ]
  },
  {
   "cell_type": "markdown",
   "id": "e39f3628-2ecf-4328-8e2f-998ae919e363",
   "metadata": {},
   "source": [
    "reconstruct the example URL, using your API key and series_id"
   ]
  },
  {
   "cell_type": "code",
   "execution_count": 5,
   "id": "a059ccdf-42ae-49e1-a8b6-06f06b0bbd1f",
   "metadata": {},
   "outputs": [],
   "source": [
    "unemp_url = base + 'series_id=' + unemployment_id\\\n",
    "+ '&' + 'api_key=' + mykey + '&' + 'file_type=json'"
   ]
  },
  {
   "cell_type": "markdown",
   "id": "7c694901-0d9f-4946-a989-e69ff7a63260",
   "metadata": {},
   "source": [
    "Show the unemployement url to see it is displayed as expected. "
   ]
  },
  {
   "cell_type": "code",
   "execution_count": 6,
   "id": "88f2ec49-d2fa-4b67-a232-835863dd09ab",
   "metadata": {},
   "outputs": [
    {
     "data": {
      "text/plain": [
       "'https://api.stlouisfed.org/fred/series/observations?series_id=DEUR&api_key=6e7c6060e43aa6909fb2a7d3fb4f3473&file_type=json'"
      ]
     },
     "execution_count": 6,
     "metadata": {},
     "output_type": "execute_result"
    }
   ],
   "source": [
    "unemp_url"
   ]
  },
  {
   "cell_type": "markdown",
   "id": "626ae023-c0fe-42e2-8113-3594f27a7cff",
   "metadata": {},
   "source": [
    "use requests.get() to call the url you constructed"
   ]
  },
  {
   "cell_type": "code",
   "execution_count": 7,
   "id": "fdce688e-3613-4fa5-87d8-65ad84b87720",
   "metadata": {},
   "outputs": [],
   "source": [
    "response = requests.get(unemp_url)"
   ]
  },
  {
   "cell_type": "markdown",
   "id": "eec7c2bf-0260-4e6a-8e64-d88c2c23835c",
   "metadata": {},
   "source": [
    "check the status code of the response to confirm your call succeeded: Success!"
   ]
  },
  {
   "cell_type": "code",
   "execution_count": 8,
   "id": "d25da210-c820-49d9-870f-6821127bf325",
   "metadata": {},
   "outputs": [
    {
     "data": {
      "text/plain": [
       "200"
      ]
     },
     "execution_count": 8,
     "metadata": {},
     "output_type": "execute_result"
    }
   ],
   "source": [
    "response.status_code"
   ]
  },
  {
   "cell_type": "code",
   "execution_count": 9,
   "id": "7dc179cc-c392-44ff-bcee-2b425c2aa6ef",
   "metadata": {},
   "outputs": [
    {
     "data": {
      "text/plain": [
       "b'{\"realtime_start\":\"2024-04-11\",\"realtime_end\":\"2024-04-11\",\"observation_start\":\"1600-01-01\",\"observation_end\":\"9999-12-31\",\"units\":\"lin\",\"output_type\":1,\"file_type\":\"json\",\"order_by\":\"observation_date\",\"sort_order\":\"asc\",\"count\":578,\"offset\":0,\"limit\":100000,\"observations\":[{\"realtime_start\":\"2024-04-11\",\"realtime_end\":\"2024-04-11\",\"date\":\"1976-01-01\",\"value\":\"8.0\"},{\"realtime_start\":\"2024-04-11\",\"realtime_end\":\"2024-04-11\",\"date\":\"1976-02-01\",\"value\":\"8.0\"},{\"realtime_start\":\"2024-04-11\",\"realtime_end\":\"2024-04-11\",\"date\":\"1976-03-01\",\"value\":\"8.0\"},{\"realtime_start\":\"2024-04-11\",\"realtime_end\":\"2024-04-11\",\"date\":\"1976-04-01\",\"value\":\"8.1\"},{\"realtime_start\":\"2024-04-11\",\"realtime_end\":\"2024-04-11\",\"date\":\"1976-05-01\",\"value\":\"8.3\"},{\"realtime_start\":\"2024-04-11\",\"realtime_end\":\"2024-04-11\",\"date\":\"1976-06-01\",\"value\":\"8.6\"},{\"realtime_start\":\"2024-04-11\",\"realtime_end\":\"2024-04-11\",\"date\":\"1976-07-01\",\"value\":\"8.8\"},{\"realtime_start\":\"2024-04-11\",\"realtime_end\":\"2024-04-11\",\"date\":\"1976-08-01\",\"value\":\"8.9\"},{\"realtime_start\":\"2024-04-11\",\"realtime_end\":\"2024-04-11\",\"date\":\"1976-09-01\",\"value\":\"9.0\"},{\"realtime_start\":\"2024-04-11\",\"realtime_end\":\"2024-04-11\",\"date\":\"1976-10-01\",\"value\":\"9.1\"},{\"realtime_start\":\"2024-04-11\",\"realtime_end\":\"2024-04-11\",\"date\":\"1976-11-01\",\"value\":\"9.2\"},{\"realtime_start\":\"2024-04-11\",\"realtime_end\":\"2024-04-11\",\"date\":\"1976-12-01\",\"value\":\"9.2\"},{\"realtime_start\":\"2024-04-11\",\"realtime_end\":\"2024-04-11\",\"date\":\"1977-01-01\",\"value\":\"9.2\"},{\"realtime_start\":\"2024-04-11\",\"realtime_end\":\"2024-04-11\",\"date\":\"1977-02-01\",\"value\":\"9.1\"},{\"realtime_start\":\"2024-04-11\",\"realtime_end\":\"2024-04-11\",\"date\":\"1977-03-01\",\"value\":\"8.9\"},{\"realtime_start\":\"2024-04-11\",\"realtime_end\":\"2024-04-11\",\"date\":\"1977-04-01\",\"value\":\"8.7\"},{\"realtime_start\":\"2024-04-11\",\"realtime_end\":\"2024-04-11\",\"date\":\"1977-05-01\",\"value\":\"8.4\"},{\"realtime_start\":\"2024-04-11\",\"realtime_end\":\"2024-04-11\",\"date\":\"1977-06-01\",\"value\":\"8.2\"},{\"realtime_start\":\"2024-04-11\",\"realtime_end\":\"2024-04-11\",\"date\":\"1977-07-01\",\"value\":\"8.0\"},{\"realtime_start\":\"2024-04-11\",\"realtime_end\":\"2024-04-11\",\"date\":\"1977-08-01\",\"value\":\"7.8\"},{\"realtime_start\":\"2024-04-11\",\"realtime_end\":\"2024-04-11\",\"date\":\"1977-09-01\",\"value\":\"7.7\"},{\"realtime_start\":\"2024-04-11\",\"realtime_end\":\"2024-04-11\",\"date\":\"1977-10-01\",\"value\":\"7.5\"},{\"realtime_start\":\"2024-04-11\",\"realtime_end\":\"2024-04-11\",\"date\":\"1977-11-01\",\"value\":\"7.4\"},{\"realtime_start\":\"2024-04-11\",\"realtime_end\":\"2024-04-11\",\"date\":\"1977-12-01\",\"value\":\"7.3\"},{\"realtime_start\":\"2024-04-11\",\"realtime_end\":\"2024-04-11\",\"date\":\"1978-01-01\",\"value\":\"7.2\"},{\"realtime_start\":\"2024-04-11\",\"realtime_end\":\"2024-04-11\",\"date\":\"1978-02-01\",\"value\":\"7.1\"},{\"realtime_start\":\"2024-04-11\",\"realtime_end\":\"2024-04-11\",\"date\":\"1978-03-01\",\"value\":\"7.1\"},{\"realtime_start\":\"2024-04-11\",\"realtime_end\":\"2024-04-11\",\"date\":\"1978-04-01\",\"value\":\"7.1\"},{\"realtime_start\":\"2024-04-11\",\"realtime_end\":\"2024-04-11\",\"date\":\"1978-05-01\",\"value\":\"7.1\"},{\"realtime_start\":\"2024-04-11\",\"realtime_end\":\"2024-04-11\",\"date\":\"1978-06-01\",\"value\":\"7.1\"},{\"realtime_start\":\"2024-04-11\",\"realtime_end\":\"2024-04-11\",\"date\":\"1978-07-01\",\"value\":\"7.1\"},{\"realtime_start\":\"2024-04-11\",\"realtime_end\":\"2024-04-11\",\"date\":\"1978-08-01\",\"value\":\"7.0\"},{\"realtime_start\":\"2024-04-11\",\"realtime_end\":\"2024-04-11\",\"date\":\"1978-09-01\",\"value\":\"7.0\"},{\"realtime_start\":\"2024-04-11\",\"realtime_end\":\"2024-04-11\",\"date\":\"1978-10-01\",\"value\":\"7.0\"},{\"realtime_start\":\"2024-04-11\",\"realtime_end\":\"2024-04-11\",\"date\":\"1978-11-01\",\"value\":\"7.0\"},{\"realtime_start\":\"2024-04-11\",\"realtime_end\":\"2024-04-11\",\"date\":\"1978-12-01\",\"value\":\"7.1\"},{\"realtime_start\":\"2024-04-11\",\"realtime_end\":\"2024-04-11\",\"date\":\"1979-01-01\",\"value\":\"7.1\"},{\"realtime_start\":\"2024-04-11\",\"realtime_end\":\"2024-04-11\",\"date\":\"1979-02-01\",\"value\":\"7.1\"},{\"realtime_start\":\"2024-04-11\",\"realtime_end\":\"2024-04-11\",\"date\":\"1979-03-01\",\"value\":\"7.1\"},{\"realtime_start\":\"2024-04-11\",\"realtime_end\":\"2024-04-11\",\"date\":\"1979-04-01\",\"value\":\"7.0\"},{\"realtime_start\":\"2024-04-11\",\"realtime_end\":\"2024-04-11\",\"date\":\"1979-05-01\",\"value\":\"7.0\"},{\"realtime_start\":\"2024-04-11\",\"realtime_end\":\"2024-04-11\",\"date\":\"1979-06-01\",\"value\":\"6.9\"},{\"realtime_start\":\"2024-04-11\",\"realtime_end\":\"2024-04-11\",\"date\":\"1979-07-01\",\"value\":\"6.9\"},{\"realtime_start\":\"2024-04-11\",\"realtime_end\":\"2024-04-11\",\"date\":\"1979-08-01\",\"value\":\"6.9\"},{\"realtime_start\":\"2024-04-11\",\"realtime_end\":\"2024-04-11\",\"date\":\"1979-09-01\",\"value\":\"6.9\"},{\"realtime_start\":\"2024-04-11\",\"realtime_end\":\"2024-04-11\",\"date\":\"1979-10-01\",\"value\":\"7.0\"},{\"realtime_start\":\"2024-04-11\",\"realtime_end\":\"2024-04-11\",\"date\":\"1979-11-01\",\"value\":\"6.9\"},{\"realtime_start\":\"2024-04-11\",\"realtime_end\":\"2024-04-11\",\"date\":\"1979-12-01\",\"value\":\"6.9\"},{\"realtime_start\":\"2024-04-11\",\"realtime_end\":\"2024-04-11\",\"date\":\"1980-01-01\",\"value\":\"6.8\"},{\"realtime_start\":\"2024-04-11\",\"realtime_end\":\"2024-04-11\",\"date\":\"1980-02-01\",\"value\":\"6.9\"},{\"realtime_start\":\"2024-04-11\",\"realtime_end\":\"2024-04-11\",\"date\":\"1980-03-01\",\"value\":\"7.0\"},{\"realtime_start\":\"2024-04-11\",\"realtime_end\":\"2024-04-11\",\"date\":\"1980-04-01\",\"value\":\"7.2\"},{\"realtime_start\":\"2024-04-11\",\"realtime_end\":\"2024-04-11\",\"date\":\"1980-05-01\",\"value\":\"7.500\"},{\"realtime_start\":\"2024-04-11\",\"realtime_end\":\"2024-04-11\",\"date\":\"1980-06-01\",\"value\":\"7.8\"},{\"realtime_start\":\"2024-04-11\",\"realtime_end\":\"2024-04-11\",\"date\":\"1980-07-01\",\"value\":\"7.900\"},{\"realtime_start\":\"2024-04-11\",\"realtime_end\":\"2024-04-11\",\"date\":\"1980-08-01\",\"value\":\"8.000\"},{\"realtime_start\":\"2024-04-11\",\"realtime_end\":\"2024-04-11\",\"date\":\"1980-09-01\",\"value\":\"7.9\"},{\"realtime_start\":\"2024-04-11\",\"realtime_end\":\"2024-04-11\",\"date\":\"1980-10-01\",\"value\":\"7.8\"},{\"realtime_start\":\"2024-04-11\",\"realtime_end\":\"2024-04-11\",\"date\":\"1980-11-01\",\"value\":\"7.7\"},{\"realtime_start\":\"2024-04-11\",\"realtime_end\":\"2024-04-11\",\"date\":\"1980-12-01\",\"value\":\"7.7\"},{\"realtime_start\":\"2024-04-11\",\"realtime_end\":\"2024-04-11\",\"date\":\"1981-01-01\",\"value\":\"7.7\"},{\"realtime_start\":\"2024-04-11\",\"realtime_end\":\"2024-04-11\",\"date\":\"1981-02-01\",\"value\":\"7.700\"},{\"realtime_start\":\"2024-04-11\",\"realtime_end\":\"2024-04-11\",\"date\":\"1981-03-01\",\"value\":\"7.700\"},{\"realtime_start\":\"2024-04-11\",\"realtime_end\":\"2024-04-11\",\"date\":\"1981-04-01\",\"value\":\"7.700\"},{\"realtime_start\":\"2024-04-11\",\"realtime_end\":\"2024-04-11\",\"date\":\"1981-05-01\",\"value\":\"7.600\"},{\"realtime_start\":\"2024-04-11\",\"realtime_end\":\"2024-04-11\",\"date\":\"1981-06-01\",\"value\":\"7.5\"},{\"realtime_start\":\"2024-04-11\",\"realtime_end\":\"2024-04-11\",\"date\":\"1981-07-01\",\"value\":\"7.5\"},{\"realtime_start\":\"2024-04-11\",\"realtime_end\":\"2024-04-11\",\"date\":\"1981-08-01\",\"value\":\"7.6\"},{\"realtime_start\":\"2024-04-11\",\"realtime_end\":\"2024-04-11\",\"date\":\"1981-09-01\",\"value\":\"7.8\"},{\"realtime_start\":\"2024-04-11\",\"realtime_end\":\"2024-04-11\",\"date\":\"1981-10-01\",\"value\":\"8.0\"},{\"realtime_start\":\"2024-04-11\",\"realtime_end\":\"2024-04-11\",\"date\":\"1981-11-01\",\"value\":\"8.2\"},{\"realtime_start\":\"2024-04-11\",\"realtime_end\":\"2024-04-11\",\"date\":\"1981-12-01\",\"value\":\"8.4\"},{\"realtime_start\":\"2024-04-11\",\"realtime_end\":\"2024-04-11\",\"date\":\"1982-01-01\",\"value\":\"8.5\"},{\"realtime_start\":\"2024-04-11\",\"realtime_end\":\"2024-04-11\",\"date\":\"1982-02-01\",\"value\":\"8.5\"},{\"realtime_start\":\"2024-04-11\",\"realtime_end\":\"2024-04-11\",\"date\":\"1982-03-01\",\"value\":\"8.5\"},{\"realtime_start\":\"2024-04-11\",\"realtime_end\":\"2024-04-11\",\"date\":\"1982-04-01\",\"value\":\"8.4\"},{\"realtime_start\":\"2024-04-11\",\"realtime_end\":\"2024-04-11\",\"date\":\"1982-05-01\",\"value\":\"8.3\"},{\"realtime_start\":\"2024-04-11\",\"realtime_end\":\"2024-04-11\",\"date\":\"1982-06-01\",\"value\":\"8.2\"},{\"realtime_start\":\"2024-04-11\",\"realtime_end\":\"2024-04-11\",\"date\":\"1982-07-01\",\"value\":\"8.2\"},{\"realtime_start\":\"2024-04-11\",\"realtime_end\":\"2024-04-11\",\"date\":\"1982-08-01\",\"value\":\"8.200\"},{\"realtime_start\":\"2024-04-11\",\"realtime_end\":\"2024-04-11\",\"date\":\"1982-09-01\",\"value\":\"8.3\"},{\"realtime_start\":\"2024-04-11\",\"realtime_end\":\"2024-04-11\",\"date\":\"1982-10-01\",\"value\":\"8.4\"},{\"realtime_start\":\"2024-04-11\",\"realtime_end\":\"2024-04-11\",\"date\":\"1982-11-01\",\"value\":\"8.4\"},{\"realtime_start\":\"2024-04-11\",\"realtime_end\":\"2024-04-11\",\"date\":\"1982-12-01\",\"value\":\"8.4\"},{\"realtime_start\":\"2024-04-11\",\"realtime_end\":\"2024-04-11\",\"date\":\"1983-01-01\",\"value\":\"8.4\"},{\"realtime_start\":\"2024-04-11\",\"realtime_end\":\"2024-04-11\",\"date\":\"1983-02-01\",\"value\":\"8.4\"},{\"realtime_start\":\"2024-04-11\",\"realtime_end\":\"2024-04-11\",\"date\":\"1983-03-01\",\"value\":\"8.4\"},{\"realtime_start\":\"2024-04-11\",\"realtime_end\":\"2024-04-11\",\"date\":\"1983-04-01\",\"value\":\"8.3\"},{\"realtime_start\":\"2024-04-11\",\"realtime_end\":\"2024-04-11\",\"date\":\"1983-05-01\",\"value\":\"8.2\"},{\"realtime_start\":\"2024-04-11\",\"realtime_end\":\"2024-04-11\",\"date\":\"1983-06-01\",\"value\":\"8.1\"},{\"realtime_start\":\"2024-04-11\",\"realtime_end\":\"2024-04-11\",\"date\":\"1983-07-01\",\"value\":\"7.9\"},{\"realtime_start\":\"2024-04-11\",\"realtime_end\":\"2024-04-11\",\"date\":\"1983-08-01\",\"value\":\"7.8\"},{\"realtime_start\":\"2024-04-11\",\"realtime_end\":\"2024-04-11\",\"date\":\"1983-09-01\",\"value\":\"7.600\"},{\"realtime_start\":\"2024-04-11\",\"realtime_end\":\"2024-04-11\",\"date\":\"1983-10-01\",\"value\":\"7.5\"},{\"realtime_start\":\"2024-04-11\",\"realtime_end\":\"2024-04-11\",\"date\":\"1983-11-01\",\"value\":\"7.200\"},{\"realtime_start\":\"2024-04-11\",\"realtime_end\":\"2024-04-11\",\"date\":\"1983-12-01\",\"value\":\"7.000\"},{\"realtime_start\":\"2024-04-11\",\"realtime_end\":\"2024-04-11\",\"date\":\"1984-01-01\",\"value\":\"6.700\"},{\"realtime_start\":\"2024-04-11\",\"realtime_end\":\"2024-04-11\",\"date\":\"1984-02-01\",\"value\":\"6.4\"},{\"realtime_start\":\"2024-04-11\",\"realtime_end\":\"2024-04-11\",\"date\":\"1984-03-01\",\"value\":\"6.3\"},{\"realtime_start\":\"2024-04-11\",\"realtime_end\":\"2024-04-11\",\"date\":\"1984-04-01\",\"value\":\"6.2\"},{\"realtime_start\":\"2024-04-11\",\"realtime_end\":\"2024-04-11\",\"date\":\"1984-05-01\",\"value\":\"6.2\"},{\"realtime_start\":\"2024-04-11\",\"realtime_end\":\"2024-04-11\",\"date\":\"1984-06-01\",\"value\":\"6.2\"},{\"realtime_start\":\"2024-04-11\",\"realtime_end\":\"2024-04-11\",\"date\":\"1984-07-01\",\"value\":\"6.2\"},{\"realtime_start\":\"2024-04-11\",\"realtime_end\":\"2024-04-11\",\"date\":\"1984-08-01\",\"value\":\"6.2\"},{\"realtime_start\":\"2024-04-11\",\"realtime_end\":\"2024-04-11\",\"date\":\"1984-09-01\",\"value\":\"6.2\"},{\"realtime_start\":\"2024-04-11\",\"realtime_end\":\"2024-04-11\",\"date\":\"1984-10-01\",\"value\":\"6.1\"},{\"realtime_start\":\"2024-04-11\",\"realtime_end\":\"2024-04-11\",\"date\":\"1984-11-01\",\"value\":\"6.0\"},{\"realtime_start\":\"2024-04-11\",\"realtime_end\":\"2024-04-11\",\"date\":\"1984-12-01\",\"value\":\"5.9\"},{\"realtime_start\":\"2024-04-11\",\"realtime_end\":\"2024-04-11\",\"date\":\"1985-01-01\",\"value\":\"5.8\"},{\"realtime_start\":\"2024-04-11\",\"realtime_end\":\"2024-04-11\",\"date\":\"1985-02-01\",\"value\":\"5.800\"},{\"realtime_start\":\"2024-04-11\",\"realtime_end\":\"2024-04-11\",\"date\":\"1985-03-01\",\"value\":\"5.7\"},{\"realtime_start\":\"2024-04-11\",\"realtime_end\":\"2024-04-11\",\"date\":\"1985-04-01\",\"value\":\"5.500\"},{\"realtime_start\":\"2024-04-11\",\"realtime_end\":\"2024-04-11\",\"date\":\"1985-05-01\",\"value\":\"5.4\"},{\"realtime_start\":\"2024-04-11\",\"realtime_end\":\"2024-04-11\",\"date\":\"1985-06-01\",\"value\":\"5.200\"},{\"realtime_start\":\"2024-04-11\",\"realtime_end\":\"2024-04-11\",\"date\":\"1985-07-01\",\"value\":\"5.1\"},{\"realtime_start\":\"2024-04-11\",\"realtime_end\":\"2024-04-11\",\"date\":\"1985-08-01\",\"value\":\"4.900\"},{\"realtime_start\":\"2024-04-11\",\"realtime_end\":\"2024-04-11\",\"date\":\"1985-09-01\",\"value\":\"4.8\"},{\"realtime_start\":\"2024-04-11\",\"realtime_end\":\"2024-04-11\",\"date\":\"1985-10-01\",\"value\":\"4.600\"},{\"realtime_start\":\"2024-04-11\",\"realtime_end\":\"2024-04-11\",\"date\":\"1985-11-01\",\"value\":\"4.5\"},{\"realtime_start\":\"2024-04-11\",\"realtime_end\":\"2024-04-11\",\"date\":\"1985-12-01\",\"value\":\"4.5\"},{\"realtime_start\":\"2024-04-11\",\"realtime_end\":\"2024-04-11\",\"date\":\"1986-01-01\",\"value\":\"4.5\"},{\"realtime_start\":\"2024-04-11\",\"realtime_end\":\"2024-04-11\",\"date\":\"1986-02-01\",\"value\":\"4.6\"},{\"realtime_start\":\"2024-04-11\",\"realtime_end\":\"2024-04-11\",\"date\":\"1986-03-01\",\"value\":\"4.7\"},{\"realtime_start\":\"2024-04-11\",\"realtime_end\":\"2024-04-11\",\"date\":\"1986-04-01\",\"value\":\"4.7\"},{\"realtime_start\":\"2024-04-11\",\"realtime_end\":\"2024-04-11\",\"date\":\"1986-05-01\",\"value\":\"4.7\"},{\"realtime_start\":\"2024-04-11\",\"realtime_end\":\"2024-04-11\",\"date\":\"1986-06-01\",\"value\":\"4.5\"},{\"realtime_start\":\"2024-04-11\",\"realtime_end\":\"2024-04-11\",\"date\":\"1986-07-01\",\"value\":\"4.3\"},{\"realtime_start\":\"2024-04-11\",\"realtime_end\":\"2024-04-11\",\"date\":\"1986-08-01\",\"value\":\"4.0\"},{\"realtime_start\":\"2024-04-11\",\"realtime_end\":\"2024-04-11\",\"date\":\"1986-09-01\",\"value\":\"3.8\"},{\"realtime_start\":\"2024-04-11\",\"realtime_end\":\"2024-04-11\",\"date\":\"1986-10-01\",\"value\":\"3.6\"},{\"realtime_start\":\"2024-04-11\",\"realtime_end\":\"2024-04-11\",\"date\":\"1986-11-01\",\"value\":\"3.4\"},{\"realtime_start\":\"2024-04-11\",\"realtime_end\":\"2024-04-11\",\"date\":\"1986-12-01\",\"value\":\"3.300\"},{\"realtime_start\":\"2024-04-11\",\"realtime_end\":\"2024-04-11\",\"date\":\"1987-01-01\",\"value\":\"3.200\"},{\"realtime_start\":\"2024-04-11\",\"realtime_end\":\"2024-04-11\",\"date\":\"1987-02-01\",\"value\":\"3.200\"},{\"realtime_start\":\"2024-04-11\",\"realtime_end\":\"2024-04-11\",\"date\":\"1987-03-01\",\"value\":\"3.100\"},{\"realtime_start\":\"2024-04-11\",\"realtime_end\":\"2024-04-11\",\"date\":\"1987-04-01\",\"value\":\"3.100\"},{\"realtime_start\":\"2024-04-11\",\"realtime_end\":\"2024-04-11\",\"date\":\"1987-05-01\",\"value\":\"3.0\"},{\"realtime_start\":\"2024-04-11\",\"realtime_end\":\"2024-04-11\",\"date\":\"1987-06-01\",\"value\":\"3.000\"},{\"realtime_start\":\"2024-04-11\",\"realtime_end\":\"2024-04-11\",\"date\":\"1987-07-01\",\"value\":\"2.9\"},{\"realtime_start\":\"2024-04-11\",\"realtime_end\":\"2024-04-11\",\"date\":\"1987-08-01\",\"value\":\"2.9\"},{\"realtime_start\":\"2024-04-11\",\"realtime_end\":\"2024-04-11\",\"date\":\"1987-09-01\",\"value\":\"2.9\"},{\"realtime_start\":\"2024-04-11\",\"realtime_end\":\"2024-04-11\",\"date\":\"1987-10-01\",\"value\":\"3.0\"},{\"realtime_start\":\"2024-04-11\",\"realtime_end\":\"2024-04-11\",\"date\":\"1987-11-01\",\"value\":\"3.0\"},{\"realtime_start\":\"2024-04-11\",\"realtime_end\":\"2024-04-11\",\"date\":\"1987-12-01\",\"value\":\"3.1\"},{\"realtime_start\":\"2024-04-11\",\"realtime_end\":\"2024-04-11\",\"date\":\"1988-01-01\",\"value\":\"3.1\"},{\"realtime_start\":\"2024-04-11\",\"realtime_end\":\"2024-04-11\",\"date\":\"1988-02-01\",\"value\":\"3.0\"},{\"realtime_start\":\"2024-04-11\",\"realtime_end\":\"2024-04-11\",\"date\":\"1988-03-01\",\"value\":\"2.9\"},{\"realtime_start\":\"2024-04-11\",\"realtime_end\":\"2024-04-11\",\"date\":\"1988-04-01\",\"value\":\"2.9\"},{\"realtime_start\":\"2024-04-11\",\"realtime_end\":\"2024-04-11\",\"date\":\"1988-05-01\",\"value\":\"2.8\"},{\"realtime_start\":\"2024-04-11\",\"realtime_end\":\"2024-04-11\",\"date\":\"1988-06-01\",\"value\":\"2.9\"},{\"realtime_start\":\"2024-04-11\",\"realtime_end\":\"2024-04-11\",\"date\":\"1988-07-01\",\"value\":\"2.9\"},{\"realtime_start\":\"2024-04-11\",\"realtime_end\":\"2024-04-11\",\"date\":\"1988-08-01\",\"value\":\"3.0\"},{\"realtime_start\":\"2024-04-11\",\"realtime_end\":\"2024-04-11\",\"date\":\"1988-09-01\",\"value\":\"3.1\"},{\"realtime_start\":\"2024-04-11\",\"realtime_end\":\"2024-04-11\",\"date\":\"1988-10-01\",\"value\":\"3.1\"},{\"realtime_start\":\"2024-04-11\",\"realtime_end\":\"2024-04-11\",\"date\":\"1988-11-01\",\"value\":\"3.1\"},{\"realtime_start\":\"2024-04-11\",\"realtime_end\":\"2024-04-11\",\"date\":\"1988-12-01\",\"value\":\"3.0\"},{\"realtime_start\":\"2024-04-11\",\"realtime_end\":\"2024-04-11\",\"date\":\"1989-01-01\",\"value\":\"3.0\"},{\"realtime_start\":\"2024-04-11\",\"realtime_end\":\"2024-04-11\",\"date\":\"1989-02-01\",\"value\":\"3.0\"},{\"realtime_start\":\"2024-04-11\",\"realtime_end\":\"2024-04-11\",\"date\":\"1989-03-01\",\"value\":\"3.0\"},{\"realtime_start\":\"2024-04-11\",\"realtime_end\":\"2024-04-11\",\"date\":\"1989-04-01\",\"value\":\"3.1\"},{\"realtime_start\":\"2024-04-11\",\"realtime_end\":\"2024-04-11\",\"date\":\"1989-05-01\",\"value\":\"3.2\"},{\"realtime_start\":\"2024-04-11\",\"realtime_end\":\"2024-04-11\",\"date\":\"1989-06-01\",\"value\":\"3.4\"},{\"realtime_start\":\"2024-04-11\",\"realtime_end\":\"2024-04-11\",\"date\":\"1989-07-01\",\"value\":\"3.5\"},{\"realtime_start\":\"2024-04-11\",\"realtime_end\":\"2024-04-11\",\"date\":\"1989-08-01\",\"value\":\"3.5\"},{\"realtime_start\":\"2024-04-11\",\"realtime_end\":\"2024-04-11\",\"date\":\"1989-09-01\",\"value\":\"3.5\"},{\"realtime_start\":\"2024-04-11\",\"realtime_end\":\"2024-04-11\",\"date\":\"1989-10-01\",\"value\":\"3.5\"},{\"realtime_start\":\"2024-04-11\",\"realtime_end\":\"2024-04-11\",\"date\":\"1989-11-01\",\"value\":\"3.5\"},{\"realtime_start\":\"2024-04-11\",\"realtime_end\":\"2024-04-11\",\"date\":\"1989-12-01\",\"value\":\"3.5\"},{\"realtime_start\":\"2024-04-11\",\"realtime_end\":\"2024-04-11\",\"date\":\"1990-01-01\",\"value\":\"3.5\"},{\"realtime_start\":\"2024-04-11\",\"realtime_end\":\"2024-04-11\",\"date\":\"1990-02-01\",\"value\":\"3.5\"},{\"realtime_start\":\"2024-04-11\",\"realtime_end\":\"2024-04-11\",\"date\":\"1990-03-01\",\"value\":\"3.5\"},{\"realtime_start\":\"2024-04-11\",\"realtime_end\":\"2024-04-11\",\"date\":\"1990-04-01\",\"value\":\"3.5\"},{\"realtime_start\":\"2024-04-11\",\"realtime_end\":\"2024-04-11\",\"date\":\"1990-05-01\",\"value\":\"3.5\"},{\"realtime_start\":\"2024-04-11\",\"realtime_end\":\"2024-04-11\",\"date\":\"1990-06-01\",\"value\":\"3.6\"},{\"realtime_start\":\"2024-04-11\",\"realtime_end\":\"2024-04-11\",\"date\":\"1990-07-01\",\"value\":\"3.7\"},{\"realtime_start\":\"2024-04-11\",\"realtime_end\":\"2024-04-11\",\"date\":\"1990-08-01\",\"value\":\"3.9\"},{\"realtime_start\":\"2024-04-11\",\"realtime_end\":\"2024-04-11\",\"date\":\"1990-09-01\",\"value\":\"5.5\"},{\"realtime_start\":\"2024-04-11\",\"realtime_end\":\"2024-04-11\",\"date\":\"1990-10-01\",\"value\":\"6.0\"},{\"realtime_start\":\"2024-04-11\",\"realtime_end\":\"2024-04-11\",\"date\":\"1990-11-01\",\"value\":\"6.3\"},{\"realtime_start\":\"2024-04-11\",\"realtime_end\":\"2024-04-11\",\"date\":\"1990-12-01\",\"value\":\"6.4\"},{\"realtime_start\":\"2024-04-11\",\"realtime_end\":\"2024-04-11\",\"date\":\"1991-01-01\",\"value\":\"6.5\"},{\"realtime_start\":\"2024-04-11\",\"realtime_end\":\"2024-04-11\",\"date\":\"1991-02-01\",\"value\":\"6.5\"},{\"realtime_start\":\"2024-04-11\",\"realtime_end\":\"2024-04-11\",\"date\":\"1991-03-01\",\"value\":\"6.4\"},{\"realtime_start\":\"2024-04-11\",\"realtime_end\":\"2024-04-11\",\"date\":\"1991-04-01\",\"value\":\"6.3\"},{\"realtime_start\":\"2024-04-11\",\"realtime_end\":\"2024-04-11\",\"date\":\"1991-05-01\",\"value\":\"6.1\"},{\"realtime_start\":\"2024-04-11\",\"realtime_end\":\"2024-04-11\",\"date\":\"1991-06-01\",\"value\":\"5.9\"},{\"realtime_start\":\"2024-04-11\",\"realtime_end\":\"2024-04-11\",\"date\":\"1991-07-01\",\"value\":\"5.8\"},{\"realtime_start\":\"2024-04-11\",\"realtime_end\":\"2024-04-11\",\"date\":\"1991-08-01\",\"value\":\"5.6\"},{\"realtime_start\":\"2024-04-11\",\"realtime_end\":\"2024-04-11\",\"date\":\"1991-09-01\",\"value\":\"5.5\"},{\"realtime_start\":\"2024-04-11\",\"realtime_end\":\"2024-04-11\",\"date\":\"1991-10-01\",\"value\":\"5.5\"},{\"realtime_start\":\"2024-04-11\",\"realtime_end\":\"2024-04-11\",\"date\":\"1991-11-01\",\"value\":\"5.5\"},{\"realtime_start\":\"2024-04-11\",\"realtime_end\":\"2024-04-11\",\"date\":\"1991-12-01\",\"value\":\"5.4\"},{\"realtime_start\":\"2024-04-11\",\"realtime_end\":\"2024-04-11\",\"date\":\"1992-01-01\",\"value\":\"5.4\"},{\"realtime_start\":\"2024-04-11\",\"realtime_end\":\"2024-04-11\",\"date\":\"1992-02-01\",\"value\":\"5.4\"},{\"realtime_start\":\"2024-04-11\",\"realtime_end\":\"2024-04-11\",\"date\":\"1992-03-01\",\"value\":\"5.4\"},{\"realtime_start\":\"2024-04-11\",\"realtime_end\":\"2024-04-11\",\"date\":\"1992-04-01\",\"value\":\"5.4\"},{\"realtime_start\":\"2024-04-11\",\"realtime_end\":\"2024-04-11\",\"date\":\"1992-05-01\",\"value\":\"5.4\"},{\"realtime_start\":\"2024-04-11\",\"realtime_end\":\"2024-04-11\",\"date\":\"1992-06-01\",\"value\":\"5.3\"},{\"realtime_start\":\"2024-04-11\",\"realtime_end\":\"2024-04-11\",\"date\":\"1992-07-01\",\"value\":\"5.3\"},{\"realtime_start\":\"2024-04-11\",\"realtime_end\":\"2024-04-11\",\"date\":\"1992-08-01\",\"value\":\"5.2\"},{\"realtime_start\":\"2024-04-11\",\"realtime_end\":\"2024-04-11\",\"date\":\"1992-09-01\",\"value\":\"5.2\"},{\"realtime_start\":\"2024-04-11\",\"realtime_end\":\"2024-04-11\",\"date\":\"1992-10-01\",\"value\":\"5.0\"},{\"realtime_start\":\"2024-04-11\",\"realtime_end\":\"2024-04-11\",\"date\":\"1992-11-01\",\"value\":\"4.9\"},{\"realtime_start\":\"2024-04-11\",\"realtime_end\":\"2024-04-11\",\"date\":\"1992-12-01\",\"value\":\"4.8\"},{\"realtime_start\":\"2024-04-11\",\"realtime_end\":\"2024-04-11\",\"date\":\"1993-01-01\",\"value\":\"4.800\"},{\"realtime_start\":\"2024-04-11\",\"realtime_end\":\"2024-04-11\",\"date\":\"1993-02-01\",\"value\":\"4.7\"},{\"realtime_start\":\"2024-04-11\",\"realtime_end\":\"2024-04-11\",\"date\":\"1993-03-01\",\"value\":\"4.7\"},{\"realtime_start\":\"2024-04-11\",\"realtime_end\":\"2024-04-11\",\"date\":\"1993-04-01\",\"value\":\"4.7\"},{\"realtime_start\":\"2024-04-11\",\"realtime_end\":\"2024-04-11\",\"date\":\"1993-05-01\",\"value\":\"4.8\"},{\"realtime_start\":\"2024-04-11\",\"realtime_end\":\"2024-04-11\",\"date\":\"1993-06-01\",\"value\":\"4.9\"},{\"realtime_start\":\"2024-04-11\",\"realtime_end\":\"2024-04-11\",\"date\":\"1993-07-01\",\"value\":\"4.9\"},{\"realtime_start\":\"2024-04-11\",\"realtime_end\":\"2024-04-11\",\"date\":\"1993-08-01\",\"value\":\"5.0\"},{\"realtime_start\":\"2024-04-11\",\"realtime_end\":\"2024-04-11\",\"date\":\"1993-09-01\",\"value\":\"5.0\"},{\"realtime_start\":\"2024-04-11\",\"realtime_end\":\"2024-04-11\",\"date\":\"1993-10-01\",\"value\":\"5.1\"},{\"realtime_start\":\"2024-04-11\",\"realtime_end\":\"2024-04-11\",\"date\":\"1993-11-01\",\"value\":\"5.1\"},{\"realtime_start\":\"2024-04-11\",\"realtime_end\":\"2024-04-11\",\"date\":\"1993-12-01\",\"value\":\"5.2\"},{\"realtime_start\":\"2024-04-11\",\"realtime_end\":\"2024-04-11\",\"date\":\"1994-01-01\",\"value\":\"5.2\"},{\"realtime_start\":\"2024-04-11\",\"realtime_end\":\"2024-04-11\",\"date\":\"1994-02-01\",\"value\":\"5.2\"},{\"realtime_start\":\"2024-04-11\",\"realtime_end\":\"2024-04-11\",\"date\":\"1994-03-01\",\"value\":\"5.2\"},{\"realtime_start\":\"2024-04-11\",\"realtime_end\":\"2024-04-11\",\"date\":\"1994-04-01\",\"value\":\"5.1\"},{\"realtime_start\":\"2024-04-11\",\"realtime_end\":\"2024-04-11\",\"date\":\"1994-05-01\",\"value\":\"5.0\"},{\"realtime_start\":\"2024-04-11\",\"realtime_end\":\"2024-04-11\",\"date\":\"1994-06-01\",\"value\":\"4.8\"},{\"realtime_start\":\"2024-04-11\",\"realtime_end\":\"2024-04-11\",\"date\":\"1994-07-01\",\"value\":\"4.700\"},{\"realtime_start\":\"2024-04-11\",\"realtime_end\":\"2024-04-11\",\"date\":\"1994-08-01\",\"value\":\"4.5\"},{\"realtime_start\":\"2024-04-11\",\"realtime_end\":\"2024-04-11\",\"date\":\"1994-09-01\",\"value\":\"4.400\"},{\"realtime_start\":\"2024-04-11\",\"realtime_end\":\"2024-04-11\",\"date\":\"1994-10-01\",\"value\":\"4.2\"},{\"realtime_start\":\"2024-04-11\",\"realtime_end\":\"2024-04-11\",\"date\":\"1994-11-01\",\"value\":\"4.100\"},{\"realtime_start\":\"2024-04-11\",\"realtime_end\":\"2024-04-11\",\"date\":\"1994-12-01\",\"value\":\"4.000\"},{\"realtime_start\":\"2024-04-11\",\"realtime_end\":\"2024-04-11\",\"date\":\"1995-01-01\",\"value\":\"4.000\"},{\"realtime_start\":\"2024-04-11\",\"realtime_end\":\"2024-04-11\",\"date\":\"1995-02-01\",\"value\":\"4.000\"},{\"realtime_start\":\"2024-04-11\",\"realtime_end\":\"2024-04-11\",\"date\":\"1995-03-01\",\"value\":\"4.000\"},{\"realtime_start\":\"2024-04-11\",\"realtime_end\":\"2024-04-11\",\"date\":\"1995-04-01\",\"value\":\"4.100\"},{\"realtime_start\":\"2024-04-11\",\"realtime_end\":\"2024-04-11\",\"date\":\"1995-05-01\",\"value\":\"4.200\"},{\"realtime_start\":\"2024-04-11\",\"realtime_end\":\"2024-04-11\",\"date\":\"1995-06-01\",\"value\":\"4.2\"},{\"realtime_start\":\"2024-04-11\",\"realtime_end\":\"2024-04-11\",\"date\":\"1995-07-01\",\"value\":\"4.300\"},{\"realtime_start\":\"2024-04-11\",\"realtime_end\":\"2024-04-11\",\"date\":\"1995-08-01\",\"value\":\"4.3\"},{\"realtime_start\":\"2024-04-11\",\"realtime_end\":\"2024-04-11\",\"date\":\"1995-09-01\",\"value\":\"4.400\"},{\"realtime_start\":\"2024-04-11\",\"realtime_end\":\"2024-04-11\",\"date\":\"1995-10-01\",\"value\":\"4.4\"},{\"realtime_start\":\"2024-04-11\",\"realtime_end\":\"2024-04-11\",\"date\":\"1995-11-01\",\"value\":\"4.6\"},{\"realtime_start\":\"2024-04-11\",\"realtime_end\":\"2024-04-11\",\"date\":\"1995-12-01\",\"value\":\"4.7\"},{\"realtime_start\":\"2024-04-11\",\"realtime_end\":\"2024-04-11\",\"date\":\"1996-01-01\",\"value\":\"4.9\"},{\"realtime_start\":\"2024-04-11\",\"realtime_end\":\"2024-04-11\",\"date\":\"1996-02-01\",\"value\":\"4.9\"},{\"realtime_start\":\"2024-04-11\",\"realtime_end\":\"2024-04-11\",\"date\":\"1996-03-01\",\"value\":\"4.9\"},{\"realtime_start\":\"2024-04-11\",\"realtime_end\":\"2024-04-11\",\"date\":\"1996-04-01\",\"value\":\"4.9\"},{\"realtime_start\":\"2024-04-11\",\"realtime_end\":\"2024-04-11\",\"date\":\"1996-05-01\",\"value\":\"4.8\"},{\"realtime_start\":\"2024-04-11\",\"realtime_end\":\"2024-04-11\",\"date\":\"1996-06-01\",\"value\":\"4.8\"},{\"realtime_start\":\"2024-04-11\",\"realtime_end\":\"2024-04-11\",\"date\":\"1996-07-01\",\"value\":\"4.9\"},{\"realtime_start\":\"2024-04-11\",\"realtime_end\":\"2024-04-11\",\"date\":\"1996-08-01\",\"value\":\"5.0\"},{\"realtime_start\":\"2024-04-11\",\"realtime_end\":\"2024-04-11\",\"date\":\"1996-09-01\",\"value\":\"5.1\"},{\"realtime_start\":\"2024-04-11\",\"realtime_end\":\"2024-04-11\",\"date\":\"1996-10-01\",\"value\":\"5.1\"},{\"realtime_start\":\"2024-04-11\",\"realtime_end\":\"2024-04-11\",\"date\":\"1996-11-01\",\"value\":\"5.1\"},{\"realtime_start\":\"2024-04-11\",\"realtime_end\":\"2024-04-11\",\"date\":\"1996-12-01\",\"value\":\"5.000\"},{\"realtime_start\":\"2024-04-11\",\"realtime_end\":\"2024-04-11\",\"date\":\"1997-01-01\",\"value\":\"4.9\"},{\"realtime_start\":\"2024-04-11\",\"realtime_end\":\"2024-04-11\",\"date\":\"1997-02-01\",\"value\":\"4.8\"},{\"realtime_start\":\"2024-04-11\",\"realtime_end\":\"2024-04-11\",\"date\":\"1997-03-01\",\"value\":\"4.7\"},{\"realtime_start\":\"2024-04-11\",\"realtime_end\":\"2024-04-11\",\"date\":\"1997-04-01\",\"value\":\"4.4\"},{\"realtime_start\":\"2024-04-11\",\"realtime_end\":\"2024-04-11\",\"date\":\"1997-05-01\",\"value\":\"4.2\"},{\"realtime_start\":\"2024-04-11\",\"realtime_end\":\"2024-04-11\",\"date\":\"1997-06-01\",\"value\":\"4.1\"},{\"realtime_start\":\"2024-04-11\",\"realtime_end\":\"2024-04-11\",\"date\":\"1997-07-01\",\"value\":\"3.900\"},{\"realtime_start\":\"2024-04-11\",\"realtime_end\":\"2024-04-11\",\"date\":\"1997-08-01\",\"value\":\"3.7\"},{\"realtime_start\":\"2024-04-11\",\"realtime_end\":\"2024-04-11\",\"date\":\"1997-09-01\",\"value\":\"3.5\"},{\"realtime_start\":\"2024-04-11\",\"realtime_end\":\"2024-04-11\",\"date\":\"1997-10-01\",\"value\":\"3.4\"},{\"realtime_start\":\"2024-04-11\",\"realtime_end\":\"2024-04-11\",\"date\":\"1997-11-01\",\"value\":\"3.2\"},{\"realtime_start\":\"2024-04-11\",\"realtime_end\":\"2024-04-11\",\"date\":\"1997-12-01\",\"value\":\"3.3\"},{\"realtime_start\":\"2024-04-11\",\"realtime_end\":\"2024-04-11\",\"date\":\"1998-01-01\",\"value\":\"3.4\"},{\"realtime_start\":\"2024-04-11\",\"realtime_end\":\"2024-04-11\",\"date\":\"1998-02-01\",\"value\":\"3.5\"},{\"realtime_start\":\"2024-04-11\",\"realtime_end\":\"2024-04-11\",\"date\":\"1998-03-01\",\"value\":\"3.6\"},{\"realtime_start\":\"2024-04-11\",\"realtime_end\":\"2024-04-11\",\"date\":\"1998-04-01\",\"value\":\"3.6\"},{\"realtime_start\":\"2024-04-11\",\"realtime_end\":\"2024-04-11\",\"date\":\"1998-05-01\",\"value\":\"3.6\"},{\"realtime_start\":\"2024-04-11\",\"realtime_end\":\"2024-04-11\",\"date\":\"1998-06-01\",\"value\":\"3.6\"},{\"realtime_start\":\"2024-04-11\",\"realtime_end\":\"2024-04-11\",\"date\":\"1998-07-01\",\"value\":\"3.6\"},{\"realtime_start\":\"2024-04-11\",\"realtime_end\":\"2024-04-11\",\"date\":\"1998-08-01\",\"value\":\"3.6\"},{\"realtime_start\":\"2024-04-11\",\"realtime_end\":\"2024-04-11\",\"date\":\"1998-09-01\",\"value\":\"3.5\"},{\"realtime_start\":\"2024-04-11\",\"realtime_end\":\"2024-04-11\",\"date\":\"1998-10-01\",\"value\":\"3.4\"},{\"realtime_start\":\"2024-04-11\",\"realtime_end\":\"2024-04-11\",\"date\":\"1998-11-01\",\"value\":\"3.3\"},{\"realtime_start\":\"2024-04-11\",\"realtime_end\":\"2024-04-11\",\"date\":\"1998-12-01\",\"value\":\"3.2\"},{\"realtime_start\":\"2024-04-11\",\"realtime_end\":\"2024-04-11\",\"date\":\"1999-01-01\",\"value\":\"3.2\"},{\"realtime_start\":\"2024-04-11\",\"realtime_end\":\"2024-04-11\",\"date\":\"1999-02-01\",\"value\":\"3.2\"},{\"realtime_start\":\"2024-04-11\",\"realtime_end\":\"2024-04-11\",\"date\":\"1999-03-01\",\"value\":\"3.2\"},{\"realtime_start\":\"2024-04-11\",\"realtime_end\":\"2024-04-11\",\"date\":\"1999-04-01\",\"value\":\"3.2\"},{\"realtime_start\":\"2024-04-11\",\"realtime_end\":\"2024-04-11\",\"date\":\"1999-05-01\",\"value\":\"3.3\"},{\"realtime_start\":\"2024-04-11\",\"realtime_end\":\"2024-04-11\",\"date\":\"1999-06-01\",\"value\":\"3.3\"},{\"realtime_start\":\"2024-04-11\",\"realtime_end\":\"2024-04-11\",\"date\":\"1999-07-01\",\"value\":\"3.3\"},{\"realtime_start\":\"2024-04-11\",\"realtime_end\":\"2024-04-11\",\"date\":\"1999-08-01\",\"value\":\"3.3\"},{\"realtime_start\":\"2024-04-11\",\"realtime_end\":\"2024-04-11\",\"date\":\"1999-09-01\",\"value\":\"3.3\"},{\"realtime_start\":\"2024-04-11\",\"realtime_end\":\"2024-04-11\",\"date\":\"1999-10-01\",\"value\":\"3.3\"},{\"realtime_start\":\"2024-04-11\",\"realtime_end\":\"2024-04-11\",\"date\":\"1999-11-01\",\"value\":\"3.4\"},{\"realtime_start\":\"2024-04-11\",\"realtime_end\":\"2024-04-11\",\"date\":\"1999-12-01\",\"value\":\"3.4\"},{\"realtime_start\":\"2024-04-11\",\"realtime_end\":\"2024-04-11\",\"date\":\"2000-01-01\",\"value\":\"3.4\"},{\"realtime_start\":\"2024-04-11\",\"realtime_end\":\"2024-04-11\",\"date\":\"2000-02-01\",\"value\":\"3.4\"},{\"realtime_start\":\"2024-04-11\",\"realtime_end\":\"2024-04-11\",\"date\":\"2000-03-01\",\"value\":\"3.5\"},{\"realtime_start\":\"2024-04-11\",\"realtime_end\":\"2024-04-11\",\"date\":\"2000-04-01\",\"value\":\"3.5\"},{\"realtime_start\":\"2024-04-11\",\"realtime_end\":\"2024-04-11\",\"date\":\"2000-05-01\",\"value\":\"3.6\"},{\"realtime_start\":\"2024-04-11\",\"realtime_end\":\"2024-04-11\",\"date\":\"2000-06-01\",\"value\":\"3.7\"},{\"realtime_start\":\"2024-04-11\",\"realtime_end\":\"2024-04-11\",\"date\":\"2000-07-01\",\"value\":\"3.7\"},{\"realtime_start\":\"2024-04-11\",\"realtime_end\":\"2024-04-11\",\"date\":\"2000-08-01\",\"value\":\"3.7\"},{\"realtime_start\":\"2024-04-11\",\"realtime_end\":\"2024-04-11\",\"date\":\"2000-09-01\",\"value\":\"3.7\"},{\"realtime_start\":\"2024-04-11\",\"realtime_end\":\"2024-04-11\",\"date\":\"2000-10-01\",\"value\":\"3.7\"},{\"realtime_start\":\"2024-04-11\",\"realtime_end\":\"2024-04-11\",\"date\":\"2000-11-01\",\"value\":\"3.7\"},{\"realtime_start\":\"2024-04-11\",\"realtime_end\":\"2024-04-11\",\"date\":\"2000-12-01\",\"value\":\"3.7\"},{\"realtime_start\":\"2024-04-11\",\"realtime_end\":\"2024-04-11\",\"date\":\"2001-01-01\",\"value\":\"3.6\"},{\"realtime_start\":\"2024-04-11\",\"realtime_end\":\"2024-04-11\",\"date\":\"2001-02-01\",\"value\":\"3.6\"},{\"realtime_start\":\"2024-04-11\",\"realtime_end\":\"2024-04-11\",\"date\":\"2001-03-01\",\"value\":\"3.5\"},{\"realtime_start\":\"2024-04-11\",\"realtime_end\":\"2024-04-11\",\"date\":\"2001-04-01\",\"value\":\"3.400\"},{\"realtime_start\":\"2024-04-11\",\"realtime_end\":\"2024-04-11\",\"date\":\"2001-05-01\",\"value\":\"3.300\"},{\"realtime_start\":\"2024-04-11\",\"realtime_end\":\"2024-04-11\",\"date\":\"2001-06-01\",\"value\":\"3.300\"},{\"realtime_start\":\"2024-04-11\",\"realtime_end\":\"2024-04-11\",\"date\":\"2001-07-01\",\"value\":\"3.4\"},{\"realtime_start\":\"2024-04-11\",\"realtime_end\":\"2024-04-11\",\"date\":\"2001-08-01\",\"value\":\"3.5\"},{\"realtime_start\":\"2024-04-11\",\"realtime_end\":\"2024-04-11\",\"date\":\"2001-09-01\",\"value\":\"3.6\"},{\"realtime_start\":\"2024-04-11\",\"realtime_end\":\"2024-04-11\",\"date\":\"2001-10-01\",\"value\":\"3.8\"},{\"realtime_start\":\"2024-04-11\",\"realtime_end\":\"2024-04-11\",\"date\":\"2001-11-01\",\"value\":\"3.9\"},{\"realtime_start\":\"2024-04-11\",\"realtime_end\":\"2024-04-11\",\"date\":\"2001-12-01\",\"value\":\"4.0\"},{\"realtime_start\":\"2024-04-11\",\"realtime_end\":\"2024-04-11\",\"date\":\"2002-01-01\",\"value\":\"4.2\"},{\"realtime_start\":\"2024-04-11\",\"realtime_end\":\"2024-04-11\",\"date\":\"2002-02-01\",\"value\":\"4.3\"},{\"realtime_start\":\"2024-04-11\",\"realtime_end\":\"2024-04-11\",\"date\":\"2002-03-01\",\"value\":\"4.4\"},{\"realtime_start\":\"2024-04-11\",\"realtime_end\":\"2024-04-11\",\"date\":\"2002-04-01\",\"value\":\"4.4\"},{\"realtime_start\":\"2024-04-11\",\"realtime_end\":\"2024-04-11\",\"date\":\"2002-05-01\",\"value\":\"4.4\"},{\"realtime_start\":\"2024-04-11\",\"realtime_end\":\"2024-04-11\",\"date\":\"2002-06-01\",\"value\":\"4.3\"},{\"realtime_start\":\"2024-04-11\",\"realtime_end\":\"2024-04-11\",\"date\":\"2002-07-01\",\"value\":\"4.3\"},{\"realtime_start\":\"2024-04-11\",\"realtime_end\":\"2024-04-11\",\"date\":\"2002-08-01\",\"value\":\"4.2\"},{\"realtime_start\":\"2024-04-11\",\"realtime_end\":\"2024-04-11\",\"date\":\"2002-09-01\",\"value\":\"4.1\"},{\"realtime_start\":\"2024-04-11\",\"realtime_end\":\"2024-04-11\",\"date\":\"2002-10-01\",\"value\":\"4.1\"},{\"realtime_start\":\"2024-04-11\",\"realtime_end\":\"2024-04-11\",\"date\":\"2002-11-01\",\"value\":\"4.2\"},{\"realtime_start\":\"2024-04-11\",\"realtime_end\":\"2024-04-11\",\"date\":\"2002-12-01\",\"value\":\"4.3\"},{\"realtime_start\":\"2024-04-11\",\"realtime_end\":\"2024-04-11\",\"date\":\"2003-01-01\",\"value\":\"4.4\"},{\"realtime_start\":\"2024-04-11\",\"realtime_end\":\"2024-04-11\",\"date\":\"2003-02-01\",\"value\":\"4.5\"},{\"realtime_start\":\"2024-04-11\",\"realtime_end\":\"2024-04-11\",\"date\":\"2003-03-01\",\"value\":\"4.5\"},{\"realtime_start\":\"2024-04-11\",\"realtime_end\":\"2024-04-11\",\"date\":\"2003-04-01\",\"value\":\"4.6\"},{\"realtime_start\":\"2024-04-11\",\"realtime_end\":\"2024-04-11\",\"date\":\"2003-05-01\",\"value\":\"4.6\"},{\"realtime_start\":\"2024-04-11\",\"realtime_end\":\"2024-04-11\",\"date\":\"2003-06-01\",\"value\":\"4.6\"},{\"realtime_start\":\"2024-04-11\",\"realtime_end\":\"2024-04-11\",\"date\":\"2003-07-01\",\"value\":\"4.6\"},{\"realtime_start\":\"2024-04-11\",\"realtime_end\":\"2024-04-11\",\"date\":\"2003-08-01\",\"value\":\"4.5\"},{\"realtime_start\":\"2024-04-11\",\"realtime_end\":\"2024-04-11\",\"date\":\"2003-09-01\",\"value\":\"4.4\"},{\"realtime_start\":\"2024-04-11\",\"realtime_end\":\"2024-04-11\",\"date\":\"2003-10-01\",\"value\":\"4.4\"},{\"realtime_start\":\"2024-04-11\",\"realtime_end\":\"2024-04-11\",\"date\":\"2003-11-01\",\"value\":\"4.3\"},{\"realtime_start\":\"2024-04-11\",\"realtime_end\":\"2024-04-11\",\"date\":\"2003-12-01\",\"value\":\"4.2\"},{\"realtime_start\":\"2024-04-11\",\"realtime_end\":\"2024-04-11\",\"date\":\"2004-01-01\",\"value\":\"4.1\"},{\"realtime_start\":\"2024-04-11\",\"realtime_end\":\"2024-04-11\",\"date\":\"2004-02-01\",\"value\":\"4.1\"},{\"realtime_start\":\"2024-04-11\",\"realtime_end\":\"2024-04-11\",\"date\":\"2004-03-01\",\"value\":\"4.2\"},{\"realtime_start\":\"2024-04-11\",\"realtime_end\":\"2024-04-11\",\"date\":\"2004-04-01\",\"value\":\"4.2\"},{\"realtime_start\":\"2024-04-11\",\"realtime_end\":\"2024-04-11\",\"date\":\"2004-05-01\",\"value\":\"4.2\"},{\"realtime_start\":\"2024-04-11\",\"realtime_end\":\"2024-04-11\",\"date\":\"2004-06-01\",\"value\":\"4.3\"},{\"realtime_start\":\"2024-04-11\",\"realtime_end\":\"2024-04-11\",\"date\":\"2004-07-01\",\"value\":\"4.3\"},{\"realtime_start\":\"2024-04-11\",\"realtime_end\":\"2024-04-11\",\"date\":\"2004-08-01\",\"value\":\"4.4\"},{\"realtime_start\":\"2024-04-11\",\"realtime_end\":\"2024-04-11\",\"date\":\"2004-09-01\",\"value\":\"4.4\"},{\"realtime_start\":\"2024-04-11\",\"realtime_end\":\"2024-04-11\",\"date\":\"2004-10-01\",\"value\":\"4.4\"},{\"realtime_start\":\"2024-04-11\",\"realtime_end\":\"2024-04-11\",\"date\":\"2004-11-01\",\"value\":\"4.5\"},{\"realtime_start\":\"2024-04-11\",\"realtime_end\":\"2024-04-11\",\"date\":\"2004-12-01\",\"value\":\"4.5\"},{\"realtime_start\":\"2024-04-11\",\"realtime_end\":\"2024-04-11\",\"date\":\"2005-01-01\",\"value\":\"4.5\"},{\"realtime_start\":\"2024-04-11\",\"realtime_end\":\"2024-04-11\",\"date\":\"2005-02-01\",\"value\":\"4.5\"},{\"realtime_start\":\"2024-04-11\",\"realtime_end\":\"2024-04-11\",\"date\":\"2005-03-01\",\"value\":\"4.5\"},{\"realtime_start\":\"2024-04-11\",\"realtime_end\":\"2024-04-11\",\"date\":\"2005-04-01\",\"value\":\"4.5\"},{\"realtime_start\":\"2024-04-11\",\"realtime_end\":\"2024-04-11\",\"date\":\"2005-05-01\",\"value\":\"4.5\"},{\"realtime_start\":\"2024-04-11\",\"realtime_end\":\"2024-04-11\",\"date\":\"2005-06-01\",\"value\":\"4.5\"},{\"realtime_start\":\"2024-04-11\",\"realtime_end\":\"2024-04-11\",\"date\":\"2005-07-01\",\"value\":\"4.5\"},{\"realtime_start\":\"2024-04-11\",\"realtime_end\":\"2024-04-11\",\"date\":\"2005-08-01\",\"value\":\"4.6\"},{\"realtime_start\":\"2024-04-11\",\"realtime_end\":\"2024-04-11\",\"date\":\"2005-09-01\",\"value\":\"4.6\"},{\"realtime_start\":\"2024-04-11\",\"realtime_end\":\"2024-04-11\",\"date\":\"2005-10-01\",\"value\":\"4.5\"},{\"realtime_start\":\"2024-04-11\",\"realtime_end\":\"2024-04-11\",\"date\":\"2005-11-01\",\"value\":\"4.5\"},{\"realtime_start\":\"2024-04-11\",\"realtime_end\":\"2024-04-11\",\"date\":\"2005-12-01\",\"value\":\"4.4\"},{\"realtime_start\":\"2024-04-11\",\"realtime_end\":\"2024-04-11\",\"date\":\"2006-01-01\",\"value\":\"4.3\"},{\"realtime_start\":\"2024-04-11\",\"realtime_end\":\"2024-04-11\",\"date\":\"2006-02-01\",\"value\":\"4.1\"},{\"realtime_start\":\"2024-04-11\",\"realtime_end\":\"2024-04-11\",\"date\":\"2006-03-01\",\"value\":\"4.0\"},{\"realtime_start\":\"2024-04-11\",\"realtime_end\":\"2024-04-11\",\"date\":\"2006-04-01\",\"value\":\"4.0\"},{\"realtime_start\":\"2024-04-11\",\"realtime_end\":\"2024-04-11\",\"date\":\"2006-05-01\",\"value\":\"4.0\"},{\"realtime_start\":\"2024-04-11\",\"realtime_end\":\"2024-04-11\",\"date\":\"2006-06-01\",\"value\":\"4.0\"},{\"realtime_start\":\"2024-04-11\",\"realtime_end\":\"2024-04-11\",\"date\":\"2006-07-01\",\"value\":\"3.9\"},{\"realtime_start\":\"2024-04-11\",\"realtime_end\":\"2024-04-11\",\"date\":\"2006-08-01\",\"value\":\"3.9\"},{\"realtime_start\":\"2024-04-11\",\"realtime_end\":\"2024-04-11\",\"date\":\"2006-09-01\",\"value\":\"3.8\"},{\"realtime_start\":\"2024-04-11\",\"realtime_end\":\"2024-04-11\",\"date\":\"2006-10-01\",\"value\":\"3.7\"},{\"realtime_start\":\"2024-04-11\",\"realtime_end\":\"2024-04-11\",\"date\":\"2006-11-01\",\"value\":\"3.6\"},{\"realtime_start\":\"2024-04-11\",\"realtime_end\":\"2024-04-11\",\"date\":\"2006-12-01\",\"value\":\"3.6\"},{\"realtime_start\":\"2024-04-11\",\"realtime_end\":\"2024-04-11\",\"date\":\"2007-01-01\",\"value\":\"3.6\"},{\"realtime_start\":\"2024-04-11\",\"realtime_end\":\"2024-04-11\",\"date\":\"2007-02-01\",\"value\":\"3.6\"},{\"realtime_start\":\"2024-04-11\",\"realtime_end\":\"2024-04-11\",\"date\":\"2007-03-01\",\"value\":\"3.6\"},{\"realtime_start\":\"2024-04-11\",\"realtime_end\":\"2024-04-11\",\"date\":\"2007-04-01\",\"value\":\"3.6\"},{\"realtime_start\":\"2024-04-11\",\"realtime_end\":\"2024-04-11\",\"date\":\"2007-05-01\",\"value\":\"3.6\"},{\"realtime_start\":\"2024-04-11\",\"realtime_end\":\"2024-04-11\",\"date\":\"2007-06-01\",\"value\":\"3.5\"},{\"realtime_start\":\"2024-04-11\",\"realtime_end\":\"2024-04-11\",\"date\":\"2007-07-01\",\"value\":\"3.5\"},{\"realtime_start\":\"2024-04-11\",\"realtime_end\":\"2024-04-11\",\"date\":\"2007-08-01\",\"value\":\"3.5\"},{\"realtime_start\":\"2024-04-11\",\"realtime_end\":\"2024-04-11\",\"date\":\"2007-09-01\",\"value\":\"3.6\"},{\"realtime_start\":\"2024-04-11\",\"realtime_end\":\"2024-04-11\",\"date\":\"2007-10-01\",\"value\":\"3.7\"},{\"realtime_start\":\"2024-04-11\",\"realtime_end\":\"2024-04-11\",\"date\":\"2007-11-01\",\"value\":\"3.7\"},{\"realtime_start\":\"2024-04-11\",\"realtime_end\":\"2024-04-11\",\"date\":\"2007-12-01\",\"value\":\"3.8\"},{\"realtime_start\":\"2024-04-11\",\"realtime_end\":\"2024-04-11\",\"date\":\"2008-01-01\",\"value\":\"3.9\"},{\"realtime_start\":\"2024-04-11\",\"realtime_end\":\"2024-04-11\",\"date\":\"2008-02-01\",\"value\":\"4.0\"},{\"realtime_start\":\"2024-04-11\",\"realtime_end\":\"2024-04-11\",\"date\":\"2008-03-01\",\"value\":\"4.1\"},{\"realtime_start\":\"2024-04-11\",\"realtime_end\":\"2024-04-11\",\"date\":\"2008-04-01\",\"value\":\"4.2\"},{\"realtime_start\":\"2024-04-11\",\"realtime_end\":\"2024-04-11\",\"date\":\"2008-05-01\",\"value\":\"4.5\"},{\"realtime_start\":\"2024-04-11\",\"realtime_end\":\"2024-04-11\",\"date\":\"2008-06-01\",\"value\":\"4.7\"},{\"realtime_start\":\"2024-04-11\",\"realtime_end\":\"2024-04-11\",\"date\":\"2008-07-01\",\"value\":\"5.0\"},{\"realtime_start\":\"2024-04-11\",\"realtime_end\":\"2024-04-11\",\"date\":\"2008-08-01\",\"value\":\"5.3\"},{\"realtime_start\":\"2024-04-11\",\"realtime_end\":\"2024-04-11\",\"date\":\"2008-09-01\",\"value\":\"5.600\"},{\"realtime_start\":\"2024-04-11\",\"realtime_end\":\"2024-04-11\",\"date\":\"2008-10-01\",\"value\":\"6.000\"},{\"realtime_start\":\"2024-04-11\",\"realtime_end\":\"2024-04-11\",\"date\":\"2008-11-01\",\"value\":\"6.3\"},{\"realtime_start\":\"2024-04-11\",\"realtime_end\":\"2024-04-11\",\"date\":\"2008-12-01\",\"value\":\"6.800\"},{\"realtime_start\":\"2024-04-11\",\"realtime_end\":\"2024-04-11\",\"date\":\"2009-01-01\",\"value\":\"7.200\"},{\"realtime_start\":\"2024-04-11\",\"realtime_end\":\"2024-04-11\",\"date\":\"2009-02-01\",\"value\":\"7.600\"},{\"realtime_start\":\"2024-04-11\",\"realtime_end\":\"2024-04-11\",\"date\":\"2009-03-01\",\"value\":\"7.900\"},{\"realtime_start\":\"2024-04-11\",\"realtime_end\":\"2024-04-11\",\"date\":\"2009-04-01\",\"value\":\"8.2\"},{\"realtime_start\":\"2024-04-11\",\"realtime_end\":\"2024-04-11\",\"date\":\"2009-05-01\",\"value\":\"8.300\"},{\"realtime_start\":\"2024-04-11\",\"realtime_end\":\"2024-04-11\",\"date\":\"2009-06-01\",\"value\":\"8.400\"},{\"realtime_start\":\"2024-04-11\",\"realtime_end\":\"2024-04-11\",\"date\":\"2009-07-01\",\"value\":\"8.500\"},{\"realtime_start\":\"2024-04-11\",\"realtime_end\":\"2024-04-11\",\"date\":\"2009-08-01\",\"value\":\"8.6\"},{\"realtime_start\":\"2024-04-11\",\"realtime_end\":\"2024-04-11\",\"date\":\"2009-09-01\",\"value\":\"8.7\"},{\"realtime_start\":\"2024-04-11\",\"realtime_end\":\"2024-04-11\",\"date\":\"2009-10-01\",\"value\":\"8.8\"},{\"realtime_start\":\"2024-04-11\",\"realtime_end\":\"2024-04-11\",\"date\":\"2009-11-01\",\"value\":\"8.9\"},{\"realtime_start\":\"2024-04-11\",\"realtime_end\":\"2024-04-11\",\"date\":\"2009-12-01\",\"value\":\"9.0\"},{\"realtime_start\":\"2024-04-11\",\"realtime_end\":\"2024-04-11\",\"date\":\"2010-01-01\",\"value\":\"9.1\"},{\"realtime_start\":\"2024-04-11\",\"realtime_end\":\"2024-04-11\",\"date\":\"2010-02-01\",\"value\":\"9.0\"},{\"realtime_start\":\"2024-04-11\",\"realtime_end\":\"2024-04-11\",\"date\":\"2010-03-01\",\"value\":\"9.0\"},{\"realtime_start\":\"2024-04-11\",\"realtime_end\":\"2024-04-11\",\"date\":\"2010-04-01\",\"value\":\"8.8\"},{\"realtime_start\":\"2024-04-11\",\"realtime_end\":\"2024-04-11\",\"date\":\"2010-05-01\",\"value\":\"8.7\"},{\"realtime_start\":\"2024-04-11\",\"realtime_end\":\"2024-04-11\",\"date\":\"2010-06-01\",\"value\":\"8.6\"},{\"realtime_start\":\"2024-04-11\",\"realtime_end\":\"2024-04-11\",\"date\":\"2010-07-01\",\"value\":\"8.6\"},{\"realtime_start\":\"2024-04-11\",\"realtime_end\":\"2024-04-11\",\"date\":\"2010-08-01\",\"value\":\"8.5\"},{\"realtime_start\":\"2024-04-11\",\"realtime_end\":\"2024-04-11\",\"date\":\"2010-09-01\",\"value\":\"8.5\"},{\"realtime_start\":\"2024-04-11\",\"realtime_end\":\"2024-04-11\",\"date\":\"2010-10-01\",\"value\":\"8.5\"},{\"realtime_start\":\"2024-04-11\",\"realtime_end\":\"2024-04-11\",\"date\":\"2010-11-01\",\"value\":\"8.4\"},{\"realtime_start\":\"2024-04-11\",\"realtime_end\":\"2024-04-11\",\"date\":\"2010-12-01\",\"value\":\"8.2\"},{\"realtime_start\":\"2024-04-11\",\"realtime_end\":\"2024-04-11\",\"date\":\"2011-01-01\",\"value\":\"8.1\"},{\"realtime_start\":\"2024-04-11\",\"realtime_end\":\"2024-04-11\",\"date\":\"2011-02-01\",\"value\":\"7.9\"},{\"realtime_start\":\"2024-04-11\",\"realtime_end\":\"2024-04-11\",\"date\":\"2011-03-01\",\"value\":\"7.8\"},{\"realtime_start\":\"2024-04-11\",\"realtime_end\":\"2024-04-11\",\"date\":\"2011-04-01\",\"value\":\"7.7\"},{\"realtime_start\":\"2024-04-11\",\"realtime_end\":\"2024-04-11\",\"date\":\"2011-05-01\",\"value\":\"7.7\"},{\"realtime_start\":\"2024-04-11\",\"realtime_end\":\"2024-04-11\",\"date\":\"2011-06-01\",\"value\":\"7.7\"},{\"realtime_start\":\"2024-04-11\",\"realtime_end\":\"2024-04-11\",\"date\":\"2011-07-01\",\"value\":\"7.6\"},{\"realtime_start\":\"2024-04-11\",\"realtime_end\":\"2024-04-11\",\"date\":\"2011-08-01\",\"value\":\"7.6\"},{\"realtime_start\":\"2024-04-11\",\"realtime_end\":\"2024-04-11\",\"date\":\"2011-09-01\",\"value\":\"7.5\"},{\"realtime_start\":\"2024-04-11\",\"realtime_end\":\"2024-04-11\",\"date\":\"2011-10-01\",\"value\":\"7.4\"},{\"realtime_start\":\"2024-04-11\",\"realtime_end\":\"2024-04-11\",\"date\":\"2011-11-01\",\"value\":\"7.200\"},{\"realtime_start\":\"2024-04-11\",\"realtime_end\":\"2024-04-11\",\"date\":\"2011-12-01\",\"value\":\"7.1\"},{\"realtime_start\":\"2024-04-11\",\"realtime_end\":\"2024-04-11\",\"date\":\"2012-01-01\",\"value\":\"7.0\"},{\"realtime_start\":\"2024-04-11\",\"realtime_end\":\"2024-04-11\",\"date\":\"2012-02-01\",\"value\":\"7.0\"},{\"realtime_start\":\"2024-04-11\",\"realtime_end\":\"2024-04-11\",\"date\":\"2012-03-01\",\"value\":\"7.0\"},{\"realtime_start\":\"2024-04-11\",\"realtime_end\":\"2024-04-11\",\"date\":\"2012-04-01\",\"value\":\"7.0\"},{\"realtime_start\":\"2024-04-11\",\"realtime_end\":\"2024-04-11\",\"date\":\"2012-05-01\",\"value\":\"7.1\"},{\"realtime_start\":\"2024-04-11\",\"realtime_end\":\"2024-04-11\",\"date\":\"2012-06-01\",\"value\":\"7.1\"},{\"realtime_start\":\"2024-04-11\",\"realtime_end\":\"2024-04-11\",\"date\":\"2012-07-01\",\"value\":\"7.1\"},{\"realtime_start\":\"2024-04-11\",\"realtime_end\":\"2024-04-11\",\"date\":\"2012-08-01\",\"value\":\"7.1\"},{\"realtime_start\":\"2024-04-11\",\"realtime_end\":\"2024-04-11\",\"date\":\"2012-09-01\",\"value\":\"7.1\"},{\"realtime_start\":\"2024-04-11\",\"realtime_end\":\"2024-04-11\",\"date\":\"2012-10-01\",\"value\":\"7.1\"},{\"realtime_start\":\"2024-04-11\",\"realtime_end\":\"2024-04-11\",\"date\":\"2012-11-01\",\"value\":\"7.1\"},{\"realtime_start\":\"2024-04-11\",\"realtime_end\":\"2024-04-11\",\"date\":\"2012-12-01\",\"value\":\"7.1\"},{\"realtime_start\":\"2024-04-11\",\"realtime_end\":\"2024-04-11\",\"date\":\"2013-01-01\",\"value\":\"7.1\"},{\"realtime_start\":\"2024-04-11\",\"realtime_end\":\"2024-04-11\",\"date\":\"2013-02-01\",\"value\":\"7.0\"},{\"realtime_start\":\"2024-04-11\",\"realtime_end\":\"2024-04-11\",\"date\":\"2013-03-01\",\"value\":\"7.0\"},{\"realtime_start\":\"2024-04-11\",\"realtime_end\":\"2024-04-11\",\"date\":\"2013-04-01\",\"value\":\"6.9\"},{\"realtime_start\":\"2024-04-11\",\"realtime_end\":\"2024-04-11\",\"date\":\"2013-05-01\",\"value\":\"6.8\"},{\"realtime_start\":\"2024-04-11\",\"realtime_end\":\"2024-04-11\",\"date\":\"2013-06-01\",\"value\":\"6.7\"},{\"realtime_start\":\"2024-04-11\",\"realtime_end\":\"2024-04-11\",\"date\":\"2013-07-01\",\"value\":\"6.600\"},{\"realtime_start\":\"2024-04-11\",\"realtime_end\":\"2024-04-11\",\"date\":\"2013-08-01\",\"value\":\"6.500\"},{\"realtime_start\":\"2024-04-11\",\"realtime_end\":\"2024-04-11\",\"date\":\"2013-09-01\",\"value\":\"6.3\"},{\"realtime_start\":\"2024-04-11\",\"realtime_end\":\"2024-04-11\",\"date\":\"2013-10-01\",\"value\":\"6.2\"},{\"realtime_start\":\"2024-04-11\",\"realtime_end\":\"2024-04-11\",\"date\":\"2013-11-01\",\"value\":\"6.1\"},{\"realtime_start\":\"2024-04-11\",\"realtime_end\":\"2024-04-11\",\"date\":\"2013-12-01\",\"value\":\"6.1\"},{\"realtime_start\":\"2024-04-11\",\"realtime_end\":\"2024-04-11\",\"date\":\"2014-01-01\",\"value\":\"6.0\"},{\"realtime_start\":\"2024-04-11\",\"realtime_end\":\"2024-04-11\",\"date\":\"2014-02-01\",\"value\":\"6.0\"},{\"realtime_start\":\"2024-04-11\",\"realtime_end\":\"2024-04-11\",\"date\":\"2014-03-01\",\"value\":\"5.9\"},{\"realtime_start\":\"2024-04-11\",\"realtime_end\":\"2024-04-11\",\"date\":\"2014-04-01\",\"value\":\"5.8\"},{\"realtime_start\":\"2024-04-11\",\"realtime_end\":\"2024-04-11\",\"date\":\"2014-05-01\",\"value\":\"5.8\"},{\"realtime_start\":\"2024-04-11\",\"realtime_end\":\"2024-04-11\",\"date\":\"2014-06-01\",\"value\":\"5.7\"},{\"realtime_start\":\"2024-04-11\",\"realtime_end\":\"2024-04-11\",\"date\":\"2014-07-01\",\"value\":\"5.6\"},{\"realtime_start\":\"2024-04-11\",\"realtime_end\":\"2024-04-11\",\"date\":\"2014-08-01\",\"value\":\"5.5\"},{\"realtime_start\":\"2024-04-11\",\"realtime_end\":\"2024-04-11\",\"date\":\"2014-09-01\",\"value\":\"5.4\"},{\"realtime_start\":\"2024-04-11\",\"realtime_end\":\"2024-04-11\",\"date\":\"2014-10-01\",\"value\":\"5.3\"},{\"realtime_start\":\"2024-04-11\",\"realtime_end\":\"2024-04-11\",\"date\":\"2014-11-01\",\"value\":\"5.2\"},{\"realtime_start\":\"2024-04-11\",\"realtime_end\":\"2024-04-11\",\"date\":\"2014-12-01\",\"value\":\"5.1\"},{\"realtime_start\":\"2024-04-11\",\"realtime_end\":\"2024-04-11\",\"date\":\"2015-01-01\",\"value\":\"5.0\"},{\"realtime_start\":\"2024-04-11\",\"realtime_end\":\"2024-04-11\",\"date\":\"2015-02-01\",\"value\":\"4.9\"},{\"realtime_start\":\"2024-04-11\",\"realtime_end\":\"2024-04-11\",\"date\":\"2015-03-01\",\"value\":\"4.9\"},{\"realtime_start\":\"2024-04-11\",\"realtime_end\":\"2024-04-11\",\"date\":\"2015-04-01\",\"value\":\"4.9\"},{\"realtime_start\":\"2024-04-11\",\"realtime_end\":\"2024-04-11\",\"date\":\"2015-05-01\",\"value\":\"4.9\"},{\"realtime_start\":\"2024-04-11\",\"realtime_end\":\"2024-04-11\",\"date\":\"2015-06-01\",\"value\":\"4.8\"},{\"realtime_start\":\"2024-04-11\",\"realtime_end\":\"2024-04-11\",\"date\":\"2015-07-01\",\"value\":\"4.8\"},{\"realtime_start\":\"2024-04-11\",\"realtime_end\":\"2024-04-11\",\"date\":\"2015-08-01\",\"value\":\"4.7\"},{\"realtime_start\":\"2024-04-11\",\"realtime_end\":\"2024-04-11\",\"date\":\"2015-09-01\",\"value\":\"4.7\"},{\"realtime_start\":\"2024-04-11\",\"realtime_end\":\"2024-04-11\",\"date\":\"2015-10-01\",\"value\":\"4.7\"},{\"realtime_start\":\"2024-04-11\",\"realtime_end\":\"2024-04-11\",\"date\":\"2015-11-01\",\"value\":\"4.6\"},{\"realtime_start\":\"2024-04-11\",\"realtime_end\":\"2024-04-11\",\"date\":\"2015-12-01\",\"value\":\"4.6\"},{\"realtime_start\":\"2024-04-11\",\"realtime_end\":\"2024-04-11\",\"date\":\"2016-01-01\",\"value\":\"4.5\"},{\"realtime_start\":\"2024-04-11\",\"realtime_end\":\"2024-04-11\",\"date\":\"2016-02-01\",\"value\":\"4.5\"},{\"realtime_start\":\"2024-04-11\",\"realtime_end\":\"2024-04-11\",\"date\":\"2016-03-01\",\"value\":\"4.4\"},{\"realtime_start\":\"2024-04-11\",\"realtime_end\":\"2024-04-11\",\"date\":\"2016-04-01\",\"value\":\"4.4\"},{\"realtime_start\":\"2024-04-11\",\"realtime_end\":\"2024-04-11\",\"date\":\"2016-05-01\",\"value\":\"4.4\"},{\"realtime_start\":\"2024-04-11\",\"realtime_end\":\"2024-04-11\",\"date\":\"2016-06-01\",\"value\":\"4.5\"},{\"realtime_start\":\"2024-04-11\",\"realtime_end\":\"2024-04-11\",\"date\":\"2016-07-01\",\"value\":\"4.5\"},{\"realtime_start\":\"2024-04-11\",\"realtime_end\":\"2024-04-11\",\"date\":\"2016-08-01\",\"value\":\"4.5\"},{\"realtime_start\":\"2024-04-11\",\"realtime_end\":\"2024-04-11\",\"date\":\"2016-09-01\",\"value\":\"4.6\"},{\"realtime_start\":\"2024-04-11\",\"realtime_end\":\"2024-04-11\",\"date\":\"2016-10-01\",\"value\":\"4.6\"},{\"realtime_start\":\"2024-04-11\",\"realtime_end\":\"2024-04-11\",\"date\":\"2016-11-01\",\"value\":\"4.7\"},{\"realtime_start\":\"2024-04-11\",\"realtime_end\":\"2024-04-11\",\"date\":\"2016-12-01\",\"value\":\"4.7\"},{\"realtime_start\":\"2024-04-11\",\"realtime_end\":\"2024-04-11\",\"date\":\"2017-01-01\",\"value\":\"4.7\"},{\"realtime_start\":\"2024-04-11\",\"realtime_end\":\"2024-04-11\",\"date\":\"2017-02-01\",\"value\":\"4.6\"},{\"realtime_start\":\"2024-04-11\",\"realtime_end\":\"2024-04-11\",\"date\":\"2017-03-01\",\"value\":\"4.6\"},{\"realtime_start\":\"2024-04-11\",\"realtime_end\":\"2024-04-11\",\"date\":\"2017-04-01\",\"value\":\"4.6\"},{\"realtime_start\":\"2024-04-11\",\"realtime_end\":\"2024-04-11\",\"date\":\"2017-05-01\",\"value\":\"4.5\"},{\"realtime_start\":\"2024-04-11\",\"realtime_end\":\"2024-04-11\",\"date\":\"2017-06-01\",\"value\":\"4.5\"},{\"realtime_start\":\"2024-04-11\",\"realtime_end\":\"2024-04-11\",\"date\":\"2017-07-01\",\"value\":\"4.5\"},{\"realtime_start\":\"2024-04-11\",\"realtime_end\":\"2024-04-11\",\"date\":\"2017-08-01\",\"value\":\"4.4\"},{\"realtime_start\":\"2024-04-11\",\"realtime_end\":\"2024-04-11\",\"date\":\"2017-09-01\",\"value\":\"4.4\"},{\"realtime_start\":\"2024-04-11\",\"realtime_end\":\"2024-04-11\",\"date\":\"2017-10-01\",\"value\":\"4.3\"},{\"realtime_start\":\"2024-04-11\",\"realtime_end\":\"2024-04-11\",\"date\":\"2017-11-01\",\"value\":\"4.3\"},{\"realtime_start\":\"2024-04-11\",\"realtime_end\":\"2024-04-11\",\"date\":\"2017-12-01\",\"value\":\"4.2\"},{\"realtime_start\":\"2024-04-11\",\"realtime_end\":\"2024-04-11\",\"date\":\"2018-01-01\",\"value\":\"4.1\"},{\"realtime_start\":\"2024-04-11\",\"realtime_end\":\"2024-04-11\",\"date\":\"2018-02-01\",\"value\":\"4.0\"},{\"realtime_start\":\"2024-04-11\",\"realtime_end\":\"2024-04-11\",\"date\":\"2018-03-01\",\"value\":\"3.9\"},{\"realtime_start\":\"2024-04-11\",\"realtime_end\":\"2024-04-11\",\"date\":\"2018-04-01\",\"value\":\"3.8\"},{\"realtime_start\":\"2024-04-11\",\"realtime_end\":\"2024-04-11\",\"date\":\"2018-05-01\",\"value\":\"3.8\"},{\"realtime_start\":\"2024-04-11\",\"realtime_end\":\"2024-04-11\",\"date\":\"2018-06-01\",\"value\":\"3.7\"},{\"realtime_start\":\"2024-04-11\",\"realtime_end\":\"2024-04-11\",\"date\":\"2018-07-01\",\"value\":\"3.6\"},{\"realtime_start\":\"2024-04-11\",\"realtime_end\":\"2024-04-11\",\"date\":\"2018-08-01\",\"value\":\"3.6\"},{\"realtime_start\":\"2024-04-11\",\"realtime_end\":\"2024-04-11\",\"date\":\"2018-09-01\",\"value\":\"3.5\"},{\"realtime_start\":\"2024-04-11\",\"realtime_end\":\"2024-04-11\",\"date\":\"2018-10-01\",\"value\":\"3.5\"},{\"realtime_start\":\"2024-04-11\",\"realtime_end\":\"2024-04-11\",\"date\":\"2018-11-01\",\"value\":\"3.5\"},{\"realtime_start\":\"2024-04-11\",\"realtime_end\":\"2024-04-11\",\"date\":\"2018-12-01\",\"value\":\"3.5\"},{\"realtime_start\":\"2024-04-11\",\"realtime_end\":\"2024-04-11\",\"date\":\"2019-01-01\",\"value\":\"3.5\"},{\"realtime_start\":\"2024-04-11\",\"realtime_end\":\"2024-04-11\",\"date\":\"2019-02-01\",\"value\":\"3.5\"},{\"realtime_start\":\"2024-04-11\",\"realtime_end\":\"2024-04-11\",\"date\":\"2019-03-01\",\"value\":\"3.5\"},{\"realtime_start\":\"2024-04-11\",\"realtime_end\":\"2024-04-11\",\"date\":\"2019-04-01\",\"value\":\"3.5\"},{\"realtime_start\":\"2024-04-11\",\"realtime_end\":\"2024-04-11\",\"date\":\"2019-05-01\",\"value\":\"3.5\"},{\"realtime_start\":\"2024-04-11\",\"realtime_end\":\"2024-04-11\",\"date\":\"2019-06-01\",\"value\":\"3.5\"},{\"realtime_start\":\"2024-04-11\",\"realtime_end\":\"2024-04-11\",\"date\":\"2019-07-01\",\"value\":\"3.6\"},{\"realtime_start\":\"2024-04-11\",\"realtime_end\":\"2024-04-11\",\"date\":\"2019-08-01\",\"value\":\"3.6\"},{\"realtime_start\":\"2024-04-11\",\"realtime_end\":\"2024-04-11\",\"date\":\"2019-09-01\",\"value\":\"3.6\"},{\"realtime_start\":\"2024-04-11\",\"realtime_end\":\"2024-04-11\",\"date\":\"2019-10-01\",\"value\":\"3.6\"},{\"realtime_start\":\"2024-04-11\",\"realtime_end\":\"2024-04-11\",\"date\":\"2019-11-01\",\"value\":\"3.6\"},{\"realtime_start\":\"2024-04-11\",\"realtime_end\":\"2024-04-11\",\"date\":\"2019-12-01\",\"value\":\"3.6\"},{\"realtime_start\":\"2024-04-11\",\"realtime_end\":\"2024-04-11\",\"date\":\"2020-01-01\",\"value\":\"3.6\"},{\"realtime_start\":\"2024-04-11\",\"realtime_end\":\"2024-04-11\",\"date\":\"2020-02-01\",\"value\":\"3.6\"},{\"realtime_start\":\"2024-04-11\",\"realtime_end\":\"2024-04-11\",\"date\":\"2020-03-01\",\"value\":\"5.0\"},{\"realtime_start\":\"2024-04-11\",\"realtime_end\":\"2024-04-11\",\"date\":\"2020-04-01\",\"value\":\"13.1\"},{\"realtime_start\":\"2024-04-11\",\"realtime_end\":\"2024-04-11\",\"date\":\"2020-05-01\",\"value\":\"13.4\"},{\"realtime_start\":\"2024-04-11\",\"realtime_end\":\"2024-04-11\",\"date\":\"2020-06-01\",\"value\":\"12.7\"},{\"realtime_start\":\"2024-04-11\",\"realtime_end\":\"2024-04-11\",\"date\":\"2020-07-01\",\"value\":\"7.5\"},{\"realtime_start\":\"2024-04-11\",\"realtime_end\":\"2024-04-11\",\"date\":\"2020-08-01\",\"value\":\"7.3\"},{\"realtime_start\":\"2024-04-11\",\"realtime_end\":\"2024-04-11\",\"date\":\"2020-09-01\",\"value\":\"7.5\"},{\"realtime_start\":\"2024-04-11\",\"realtime_end\":\"2024-04-11\",\"date\":\"2020-10-01\",\"value\":\"5.1\"},{\"realtime_start\":\"2024-04-11\",\"realtime_end\":\"2024-04-11\",\"date\":\"2020-11-01\",\"value\":\"5.3\"},{\"realtime_start\":\"2024-04-11\",\"realtime_end\":\"2024-04-11\",\"date\":\"2020-12-01\",\"value\":\"5.6\"},{\"realtime_start\":\"2024-04-11\",\"realtime_end\":\"2024-04-11\",\"date\":\"2021-01-01\",\"value\":\"5.7\"},{\"realtime_start\":\"2024-04-11\",\"realtime_end\":\"2024-04-11\",\"date\":\"2021-02-01\",\"value\":\"5.8\"},{\"realtime_start\":\"2024-04-11\",\"realtime_end\":\"2024-04-11\",\"date\":\"2021-03-01\",\"value\":\"5.9\"},{\"realtime_start\":\"2024-04-11\",\"realtime_end\":\"2024-04-11\",\"date\":\"2021-04-01\",\"value\":\"5.9\"},{\"realtime_start\":\"2024-04-11\",\"realtime_end\":\"2024-04-11\",\"date\":\"2021-05-01\",\"value\":\"5.9\"},{\"realtime_start\":\"2024-04-11\",\"realtime_end\":\"2024-04-11\",\"date\":\"2021-06-01\",\"value\":\"5.8\"},{\"realtime_start\":\"2024-04-11\",\"realtime_end\":\"2024-04-11\",\"date\":\"2021-07-01\",\"value\":\"5.6\"},{\"realtime_start\":\"2024-04-11\",\"realtime_end\":\"2024-04-11\",\"date\":\"2021-08-01\",\"value\":\"5.4\"},{\"realtime_start\":\"2024-04-11\",\"realtime_end\":\"2024-04-11\",\"date\":\"2021-09-01\",\"value\":\"5.2\"},{\"realtime_start\":\"2024-04-11\",\"realtime_end\":\"2024-04-11\",\"date\":\"2021-10-01\",\"value\":\"5.0\"},{\"realtime_start\":\"2024-04-11\",\"realtime_end\":\"2024-04-11\",\"date\":\"2021-11-01\",\"value\":\"4.8\"},{\"realtime_start\":\"2024-04-11\",\"realtime_end\":\"2024-04-11\",\"date\":\"2021-12-01\",\"value\":\"4.7\"},{\"realtime_start\":\"2024-04-11\",\"realtime_end\":\"2024-04-11\",\"date\":\"2022-01-01\",\"value\":\"4.6\"},{\"realtime_start\":\"2024-04-11\",\"realtime_end\":\"2024-04-11\",\"date\":\"2022-02-01\",\"value\":\"4.4\"},{\"realtime_start\":\"2024-04-11\",\"realtime_end\":\"2024-04-11\",\"date\":\"2022-03-01\",\"value\":\"4.3\"},{\"realtime_start\":\"2024-04-11\",\"realtime_end\":\"2024-04-11\",\"date\":\"2022-04-01\",\"value\":\"4.2\"},{\"realtime_start\":\"2024-04-11\",\"realtime_end\":\"2024-04-11\",\"date\":\"2022-05-01\",\"value\":\"4.2\"},{\"realtime_start\":\"2024-04-11\",\"realtime_end\":\"2024-04-11\",\"date\":\"2022-06-01\",\"value\":\"4.2\"},{\"realtime_start\":\"2024-04-11\",\"realtime_end\":\"2024-04-11\",\"date\":\"2022-07-01\",\"value\":\"4.1\"},{\"realtime_start\":\"2024-04-11\",\"realtime_end\":\"2024-04-11\",\"date\":\"2022-08-01\",\"value\":\"4.1\"},{\"realtime_start\":\"2024-04-11\",\"realtime_end\":\"2024-04-11\",\"date\":\"2022-09-01\",\"value\":\"4.2\"},{\"realtime_start\":\"2024-04-11\",\"realtime_end\":\"2024-04-11\",\"date\":\"2022-10-01\",\"value\":\"4.2\"},{\"realtime_start\":\"2024-04-11\",\"realtime_end\":\"2024-04-11\",\"date\":\"2022-11-01\",\"value\":\"4.2\"},{\"realtime_start\":\"2024-04-11\",\"realtime_end\":\"2024-04-11\",\"date\":\"2022-12-01\",\"value\":\"4.1\"},{\"realtime_start\":\"2024-04-11\",\"realtime_end\":\"2024-04-11\",\"date\":\"2023-01-01\",\"value\":\"4.1\"},{\"realtime_start\":\"2024-04-11\",\"realtime_end\":\"2024-04-11\",\"date\":\"2023-02-01\",\"value\":\"4.0\"},{\"realtime_start\":\"2024-04-11\",\"realtime_end\":\"2024-04-11\",\"date\":\"2023-03-01\",\"value\":\"3.9\"},{\"realtime_start\":\"2024-04-11\",\"realtime_end\":\"2024-04-11\",\"date\":\"2023-04-01\",\"value\":\"3.8\"},{\"realtime_start\":\"2024-04-11\",\"realtime_end\":\"2024-04-11\",\"date\":\"2023-05-01\",\"value\":\"3.8\"},{\"realtime_start\":\"2024-04-11\",\"realtime_end\":\"2024-04-11\",\"date\":\"2023-06-01\",\"value\":\"3.9\"},{\"realtime_start\":\"2024-04-11\",\"realtime_end\":\"2024-04-11\",\"date\":\"2023-07-01\",\"value\":\"3.9\"},{\"realtime_start\":\"2024-04-11\",\"realtime_end\":\"2024-04-11\",\"date\":\"2023-08-01\",\"value\":\"4.0\"},{\"realtime_start\":\"2024-04-11\",\"realtime_end\":\"2024-04-11\",\"date\":\"2023-09-01\",\"value\":\"4.1\"},{\"realtime_start\":\"2024-04-11\",\"realtime_end\":\"2024-04-11\",\"date\":\"2023-10-01\",\"value\":\"4.1\"},{\"realtime_start\":\"2024-04-11\",\"realtime_end\":\"2024-04-11\",\"date\":\"2023-11-01\",\"value\":\"4.1\"},{\"realtime_start\":\"2024-04-11\",\"realtime_end\":\"2024-04-11\",\"date\":\"2023-12-01\",\"value\":\"4.1\"},{\"realtime_start\":\"2024-04-11\",\"realtime_end\":\"2024-04-11\",\"date\":\"2024-01-01\",\"value\":\"4.1\"},{\"realtime_start\":\"2024-04-11\",\"realtime_end\":\"2024-04-11\",\"date\":\"2024-02-01\",\"value\":\"4.0\"}]}'"
      ]
     },
     "execution_count": 9,
     "metadata": {},
     "output_type": "execute_result"
    }
   ],
   "source": [
    "response.content"
   ]
  },
  {
   "cell_type": "code",
   "execution_count": 10,
   "id": "acf20145-b657-4302-b39d-09337ea85f3c",
   "metadata": {},
   "outputs": [],
   "source": [
    "content = response.content"
   ]
  },
  {
   "cell_type": "markdown",
   "id": "4ae8f405-ec21-4dfc-b8df-d602a9e7473c",
   "metadata": {},
   "source": [
    "We specified the file_type as json because it is nice and easy to read this way. Using the json library, figure out how to load the response as a dictionary. "
   ]
  },
  {
   "cell_type": "code",
   "execution_count": 11,
   "id": "59c9c78b-091c-4174-bc29-4136e984861f",
   "metadata": {},
   "outputs": [],
   "source": [
    "response_dict = json.loads(content)"
   ]
  },
  {
   "cell_type": "code",
   "execution_count": 12,
   "id": "e5d8f9a5-81b7-4ebd-9646-1dbb20dcb1e0",
   "metadata": {},
   "outputs": [],
   "source": [
    "unemp_df = pd.DataFrame(response_dict['observations'])"
   ]
  },
  {
   "cell_type": "code",
   "execution_count": 13,
   "id": "48a1fb90-7c21-4bac-9ad6-285a46ac3364",
   "metadata": {},
   "outputs": [
    {
     "data": {
      "text/html": [
       "<div>\n",
       "<style scoped>\n",
       "    .dataframe tbody tr th:only-of-type {\n",
       "        vertical-align: middle;\n",
       "    }\n",
       "\n",
       "    .dataframe tbody tr th {\n",
       "        vertical-align: top;\n",
       "    }\n",
       "\n",
       "    .dataframe thead th {\n",
       "        text-align: right;\n",
       "    }\n",
       "</style>\n",
       "<table border=\"1\" class=\"dataframe\">\n",
       "  <thead>\n",
       "    <tr style=\"text-align: right;\">\n",
       "      <th></th>\n",
       "      <th>realtime_start</th>\n",
       "      <th>realtime_end</th>\n",
       "      <th>date</th>\n",
       "      <th>value</th>\n",
       "    </tr>\n",
       "  </thead>\n",
       "  <tbody>\n",
       "    <tr>\n",
       "      <th>0</th>\n",
       "      <td>2024-04-11</td>\n",
       "      <td>2024-04-11</td>\n",
       "      <td>1976-01-01</td>\n",
       "      <td>8.0</td>\n",
       "    </tr>\n",
       "    <tr>\n",
       "      <th>1</th>\n",
       "      <td>2024-04-11</td>\n",
       "      <td>2024-04-11</td>\n",
       "      <td>1976-02-01</td>\n",
       "      <td>8.0</td>\n",
       "    </tr>\n",
       "    <tr>\n",
       "      <th>2</th>\n",
       "      <td>2024-04-11</td>\n",
       "      <td>2024-04-11</td>\n",
       "      <td>1976-03-01</td>\n",
       "      <td>8.0</td>\n",
       "    </tr>\n",
       "    <tr>\n",
       "      <th>3</th>\n",
       "      <td>2024-04-11</td>\n",
       "      <td>2024-04-11</td>\n",
       "      <td>1976-04-01</td>\n",
       "      <td>8.1</td>\n",
       "    </tr>\n",
       "    <tr>\n",
       "      <th>4</th>\n",
       "      <td>2024-04-11</td>\n",
       "      <td>2024-04-11</td>\n",
       "      <td>1976-05-01</td>\n",
       "      <td>8.3</td>\n",
       "    </tr>\n",
       "    <tr>\n",
       "      <th>...</th>\n",
       "      <td>...</td>\n",
       "      <td>...</td>\n",
       "      <td>...</td>\n",
       "      <td>...</td>\n",
       "    </tr>\n",
       "    <tr>\n",
       "      <th>573</th>\n",
       "      <td>2024-04-11</td>\n",
       "      <td>2024-04-11</td>\n",
       "      <td>2023-10-01</td>\n",
       "      <td>4.1</td>\n",
       "    </tr>\n",
       "    <tr>\n",
       "      <th>574</th>\n",
       "      <td>2024-04-11</td>\n",
       "      <td>2024-04-11</td>\n",
       "      <td>2023-11-01</td>\n",
       "      <td>4.1</td>\n",
       "    </tr>\n",
       "    <tr>\n",
       "      <th>575</th>\n",
       "      <td>2024-04-11</td>\n",
       "      <td>2024-04-11</td>\n",
       "      <td>2023-12-01</td>\n",
       "      <td>4.1</td>\n",
       "    </tr>\n",
       "    <tr>\n",
       "      <th>576</th>\n",
       "      <td>2024-04-11</td>\n",
       "      <td>2024-04-11</td>\n",
       "      <td>2024-01-01</td>\n",
       "      <td>4.1</td>\n",
       "    </tr>\n",
       "    <tr>\n",
       "      <th>577</th>\n",
       "      <td>2024-04-11</td>\n",
       "      <td>2024-04-11</td>\n",
       "      <td>2024-02-01</td>\n",
       "      <td>4.0</td>\n",
       "    </tr>\n",
       "  </tbody>\n",
       "</table>\n",
       "<p>578 rows × 4 columns</p>\n",
       "</div>"
      ],
      "text/plain": [
       "    realtime_start realtime_end        date value\n",
       "0       2024-04-11   2024-04-11  1976-01-01   8.0\n",
       "1       2024-04-11   2024-04-11  1976-02-01   8.0\n",
       "2       2024-04-11   2024-04-11  1976-03-01   8.0\n",
       "3       2024-04-11   2024-04-11  1976-04-01   8.1\n",
       "4       2024-04-11   2024-04-11  1976-05-01   8.3\n",
       "..             ...          ...         ...   ...\n",
       "573     2024-04-11   2024-04-11  2023-10-01   4.1\n",
       "574     2024-04-11   2024-04-11  2023-11-01   4.1\n",
       "575     2024-04-11   2024-04-11  2023-12-01   4.1\n",
       "576     2024-04-11   2024-04-11  2024-01-01   4.1\n",
       "577     2024-04-11   2024-04-11  2024-02-01   4.0\n",
       "\n",
       "[578 rows x 4 columns]"
      ]
     },
     "execution_count": 13,
     "metadata": {},
     "output_type": "execute_result"
    }
   ],
   "source": [
    "unemp_df"
   ]
  },
  {
   "cell_type": "markdown",
   "id": "3586c2ac-5d47-465d-b1d9-9ae91b9e1135",
   "metadata": {},
   "source": [
    "Wrapping the above steps into a reusable function we can pull in another data series. The function should have one input and:<br>\n",
    "Call the API<br>\n",
    "Check if the response succeeded<br>\n",
    "Print if it fails<br>\n",
    "Read the content as JSON<br>\n",
    "Load the JSON into a dict<br>\n",
    "Return a DataFrame from the dict"
   ]
  },
  {
   "cell_type": "code",
   "execution_count": 14,
   "id": "aaf60f24-6d07-4eb5-8fe3-9b62f10d5521",
   "metadata": {},
   "outputs": [],
   "source": [
    "def get_data(url):\n",
    "    response = requests.get(url)\n",
    "    if response.status_code == 200:\n",
    "        content = response.content\n",
    "        response_dict = json.loads(content)\n",
    "        data = pd.DataFrame(response_dict['observations'])\n",
    "    else: \n",
    "        print('Sorry - ths call failed. Please check your URL.')\n",
    "\n",
    "    return data          "
   ]
  },
  {
   "cell_type": "markdown",
   "id": "19f1f82e-3933-47c7-b0cd-60e9a93a0678",
   "metadata": {},
   "source": [
    "Now we pull another data set. Code from website:"
   ]
  },
  {
   "cell_type": "code",
   "execution_count": 15,
   "id": "e9887c5f-c0f6-4fa7-8af5-fea015cc1357",
   "metadata": {},
   "outputs": [],
   "source": [
    "labor_id = 'LBSSA10'"
   ]
  },
  {
   "cell_type": "code",
   "execution_count": 16,
   "id": "5d652822-85e6-46f0-9ca2-3179f6d97d03",
   "metadata": {},
   "outputs": [],
   "source": [
    "participation_url = base + 'series_id=' + labor_id\\\n",
    "+ '&' + 'api_key=' + mykey + '&' + 'file_type=json'"
   ]
  },
  {
   "cell_type": "code",
   "execution_count": 17,
   "id": "0139c3ac-1745-4ed4-beb3-34eae6200225",
   "metadata": {},
   "outputs": [],
   "source": [
    "particip_data = get_data(participation_url)"
   ]
  },
  {
   "cell_type": "code",
   "execution_count": 18,
   "id": "0c4a4fc2-ae13-47e5-82e7-c865c74256fc",
   "metadata": {},
   "outputs": [
    {
     "data": {
      "text/html": [
       "<div>\n",
       "<style scoped>\n",
       "    .dataframe tbody tr th:only-of-type {\n",
       "        vertical-align: middle;\n",
       "    }\n",
       "\n",
       "    .dataframe tbody tr th {\n",
       "        vertical-align: top;\n",
       "    }\n",
       "\n",
       "    .dataframe thead th {\n",
       "        text-align: right;\n",
       "    }\n",
       "</style>\n",
       "<table border=\"1\" class=\"dataframe\">\n",
       "  <thead>\n",
       "    <tr style=\"text-align: right;\">\n",
       "      <th></th>\n",
       "      <th>realtime_start</th>\n",
       "      <th>realtime_end</th>\n",
       "      <th>date</th>\n",
       "      <th>value</th>\n",
       "    </tr>\n",
       "  </thead>\n",
       "  <tbody>\n",
       "    <tr>\n",
       "      <th>0</th>\n",
       "      <td>2024-04-11</td>\n",
       "      <td>2024-04-11</td>\n",
       "      <td>1976-01-01</td>\n",
       "      <td>62.7</td>\n",
       "    </tr>\n",
       "    <tr>\n",
       "      <th>1</th>\n",
       "      <td>2024-04-11</td>\n",
       "      <td>2024-04-11</td>\n",
       "      <td>1976-02-01</td>\n",
       "      <td>62.5</td>\n",
       "    </tr>\n",
       "    <tr>\n",
       "      <th>2</th>\n",
       "      <td>2024-04-11</td>\n",
       "      <td>2024-04-11</td>\n",
       "      <td>1976-03-01</td>\n",
       "      <td>62.5</td>\n",
       "    </tr>\n",
       "    <tr>\n",
       "      <th>3</th>\n",
       "      <td>2024-04-11</td>\n",
       "      <td>2024-04-11</td>\n",
       "      <td>1976-04-01</td>\n",
       "      <td>62.4</td>\n",
       "    </tr>\n",
       "    <tr>\n",
       "      <th>4</th>\n",
       "      <td>2024-04-11</td>\n",
       "      <td>2024-04-11</td>\n",
       "      <td>1976-05-01</td>\n",
       "      <td>62.4</td>\n",
       "    </tr>\n",
       "    <tr>\n",
       "      <th>...</th>\n",
       "      <td>...</td>\n",
       "      <td>...</td>\n",
       "      <td>...</td>\n",
       "      <td>...</td>\n",
       "    </tr>\n",
       "    <tr>\n",
       "      <th>573</th>\n",
       "      <td>2024-04-11</td>\n",
       "      <td>2024-04-11</td>\n",
       "      <td>2023-10-01</td>\n",
       "      <td>61.0</td>\n",
       "    </tr>\n",
       "    <tr>\n",
       "      <th>574</th>\n",
       "      <td>2024-04-11</td>\n",
       "      <td>2024-04-11</td>\n",
       "      <td>2023-11-01</td>\n",
       "      <td>60.9</td>\n",
       "    </tr>\n",
       "    <tr>\n",
       "      <th>575</th>\n",
       "      <td>2024-04-11</td>\n",
       "      <td>2024-04-11</td>\n",
       "      <td>2023-12-01</td>\n",
       "      <td>60.8</td>\n",
       "    </tr>\n",
       "    <tr>\n",
       "      <th>576</th>\n",
       "      <td>2024-04-11</td>\n",
       "      <td>2024-04-11</td>\n",
       "      <td>2024-01-01</td>\n",
       "      <td>60.6</td>\n",
       "    </tr>\n",
       "    <tr>\n",
       "      <th>577</th>\n",
       "      <td>2024-04-11</td>\n",
       "      <td>2024-04-11</td>\n",
       "      <td>2024-02-01</td>\n",
       "      <td>60.5</td>\n",
       "    </tr>\n",
       "  </tbody>\n",
       "</table>\n",
       "<p>578 rows × 4 columns</p>\n",
       "</div>"
      ],
      "text/plain": [
       "    realtime_start realtime_end        date value\n",
       "0       2024-04-11   2024-04-11  1976-01-01  62.7\n",
       "1       2024-04-11   2024-04-11  1976-02-01  62.5\n",
       "2       2024-04-11   2024-04-11  1976-03-01  62.5\n",
       "3       2024-04-11   2024-04-11  1976-04-01  62.4\n",
       "4       2024-04-11   2024-04-11  1976-05-01  62.4\n",
       "..             ...          ...         ...   ...\n",
       "573     2024-04-11   2024-04-11  2023-10-01  61.0\n",
       "574     2024-04-11   2024-04-11  2023-11-01  60.9\n",
       "575     2024-04-11   2024-04-11  2023-12-01  60.8\n",
       "576     2024-04-11   2024-04-11  2024-01-01  60.6\n",
       "577     2024-04-11   2024-04-11  2024-02-01  60.5\n",
       "\n",
       "[578 rows x 4 columns]"
      ]
     },
     "execution_count": 18,
     "metadata": {},
     "output_type": "execute_result"
    }
   ],
   "source": [
    "particip_data"
   ]
  },
  {
   "cell_type": "markdown",
   "id": "75ddb70c-63a5-4764-91a2-7001b40d0a3d",
   "metadata": {},
   "source": [
    "Now that we've done this manually, it's worth mentioning that many popular APIs have pre-built wrappers that make accessing the API super easy. These wrappers allow you to abstract with much of the boilerplate code we wrote above (constructing the URL, checking the response, reading the content, loading it, etc).\n",
    "\n",
    "For FRED, a very common one is fredapi, which can be installed via pip."
   ]
  },
  {
   "cell_type": "code",
   "execution_count": 19,
   "id": "85cffc4b-2946-4481-af87-1f182300df00",
   "metadata": {},
   "outputs": [
    {
     "ename": "ModuleNotFoundError",
     "evalue": "No module named 'fredapi'",
     "output_type": "error",
     "traceback": [
      "\u001b[0;31m---------------------------------------------------------------------------\u001b[0m",
      "\u001b[0;31mModuleNotFoundError\u001b[0m                       Traceback (most recent call last)",
      "Cell \u001b[0;32mIn[19], line 1\u001b[0m\n\u001b[0;32m----> 1\u001b[0m \u001b[38;5;28;01mfrom\u001b[39;00m \u001b[38;5;21;01mfredapi\u001b[39;00m \u001b[38;5;28;01mimport\u001b[39;00m Fred\n",
      "\u001b[0;31mModuleNotFoundError\u001b[0m: No module named 'fredapi'"
     ]
    }
   ],
   "source": [
    "from fredapi import Fred"
   ]
  },
  {
   "cell_type": "code",
   "execution_count": null,
   "id": "a6b8870c-86d9-4cca-ad78-bc85c7cbb777",
   "metadata": {},
   "outputs": [],
   "source": []
  }
 ],
 "metadata": {
  "kernelspec": {
   "display_name": "Python 3 (ipykernel)",
   "language": "python",
   "name": "python3"
  },
  "language_info": {
   "codemirror_mode": {
    "name": "ipython",
    "version": 3
   },
   "file_extension": ".py",
   "mimetype": "text/x-python",
   "name": "python",
   "nbconvert_exporter": "python",
   "pygments_lexer": "ipython3",
   "version": "3.12.2"
  }
 },
 "nbformat": 4,
 "nbformat_minor": 5
}
