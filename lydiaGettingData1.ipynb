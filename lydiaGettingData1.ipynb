{
 "cells": [
  {
   "cell_type": "code",
   "execution_count": 1,
   "id": "5755472d-4fdf-4c93-a61d-eb5142ed61fe",
   "metadata": {},
   "outputs": [
    {
     "ename": "ModuleNotFoundError",
     "evalue": "No module named 'fredapi'",
     "output_type": "error",
     "traceback": [
      "\u001b[0;31m---------------------------------------------------------------------------\u001b[0m",
      "\u001b[0;31mModuleNotFoundError\u001b[0m                       Traceback (most recent call last)",
      "Cell \u001b[0;32mIn[1], line 6\u001b[0m\n\u001b[1;32m      4\u001b[0m \u001b[38;5;28;01mimport\u001b[39;00m \u001b[38;5;21;01mseaborn\u001b[39;00m \u001b[38;5;28;01mas\u001b[39;00m \u001b[38;5;21;01msns\u001b[39;00m\n\u001b[1;32m      5\u001b[0m \u001b[38;5;28;01mimport\u001b[39;00m \u001b[38;5;21;01mmatplotlib\u001b[39;00m\u001b[38;5;21;01m.\u001b[39;00m\u001b[38;5;21;01mpyplot\u001b[39;00m \u001b[38;5;28;01mas\u001b[39;00m \u001b[38;5;21;01mplt\u001b[39;00m\n\u001b[0;32m----> 6\u001b[0m \u001b[38;5;28;01mimport\u001b[39;00m \u001b[38;5;21;01mfredapi\u001b[39;00m\n\u001b[1;32m      7\u001b[0m get_ipython()\u001b[38;5;241m.\u001b[39mrun_line_magic(\u001b[38;5;124m'\u001b[39m\u001b[38;5;124mmatplotlib\u001b[39m\u001b[38;5;124m'\u001b[39m, \u001b[38;5;124m'\u001b[39m\u001b[38;5;124minline\u001b[39m\u001b[38;5;124m'\u001b[39m)\n",
      "\u001b[0;31mModuleNotFoundError\u001b[0m: No module named 'fredapi'"
     ]
    }
   ],
   "source": [
    "import pandas as pd\n",
    "import requests\n",
    "import json\n",
    "import seaborn as sns\n",
    "import matplotlib.pyplot as plt\n",
    "%matplotlib inline"
   ]
  },
  {
   "cell_type": "markdown",
   "id": "ff3e1b14-2d29-4a0b-87c1-a77a9559ddb5",
   "metadata": {},
   "source": [
    "To get an API key\n",
    "Read the API documentation a bit to understand how to call it\n",
    "Test it a few times and read the responses manually to get comfortable with it\n",
    "If you're going to pull lots of data, make sure to take a peek at the site's robots.txt file (these files are always found in the base directory: https://fred.stlouisfed.org/robots.txt)."
   ]
  },
  {
   "cell_type": "code",
   "execution_count": null,
   "id": "f72ae1f3-9cd9-4408-b4a1-b00409d92957",
   "metadata": {},
   "outputs": [],
   "source": [
    "mykey = '6e7c6060e43aa6909fb2a7d3fb4f3473'"
   ]
  },
  {
   "cell_type": "code",
   "execution_count": null,
   "id": "0f6c2ec7-026b-44f9-a66b-0fcef3dcc931",
   "metadata": {},
   "outputs": [],
   "source": [
    "unemployment_id = 'DEUR'"
   ]
  },
  {
   "cell_type": "markdown",
   "id": "781da1dc-4652-4c8a-bf6a-bada40bcd2c8",
   "metadata": {},
   "source": [
    "Create a base url to call. This should end at 'observations?'"
   ]
  },
  {
   "cell_type": "code",
   "execution_count": null,
   "id": "8e724272-521b-42b7-9e6c-4df76ffaacdc",
   "metadata": {},
   "outputs": [],
   "source": [
    "base = 'https://api.stlouisfed.org/fred/series/observations?'"
   ]
  },
  {
   "cell_type": "markdown",
   "id": "e39f3628-2ecf-4328-8e2f-998ae919e363",
   "metadata": {},
   "source": [
    "reconstruct the example URL, using your API key and series_id"
   ]
  },
  {
   "cell_type": "code",
   "execution_count": null,
   "id": "a059ccdf-42ae-49e1-a8b6-06f06b0bbd1f",
   "metadata": {},
   "outputs": [],
   "source": [
    "unemp_url = base + 'series_id=' + unemployment_id\\\n",
    "+ '&' + 'api_key=' + mykey + '&' + 'file_type=json'"
   ]
  },
  {
   "cell_type": "markdown",
   "id": "7c694901-0d9f-4946-a989-e69ff7a63260",
   "metadata": {},
   "source": [
    "Show the unemployement url to see it is displayed as expected. "
   ]
  },
  {
   "cell_type": "code",
   "execution_count": null,
   "id": "88f2ec49-d2fa-4b67-a232-835863dd09ab",
   "metadata": {},
   "outputs": [],
   "source": [
    "unemp_url"
   ]
  },
  {
   "cell_type": "markdown",
   "id": "626ae023-c0fe-42e2-8113-3594f27a7cff",
   "metadata": {},
   "source": [
    "use requests.get() to call the url you constructed"
   ]
  },
  {
   "cell_type": "code",
   "execution_count": null,
   "id": "fdce688e-3613-4fa5-87d8-65ad84b87720",
   "metadata": {},
   "outputs": [],
   "source": [
    "response = requests.get(unemp_url)"
   ]
  },
  {
   "cell_type": "markdown",
   "id": "eec7c2bf-0260-4e6a-8e64-d88c2c23835c",
   "metadata": {},
   "source": [
    "check the status code of the response to confirm your call succeeded: Success!"
   ]
  },
  {
   "cell_type": "code",
   "execution_count": null,
   "id": "d25da210-c820-49d9-870f-6821127bf325",
   "metadata": {},
   "outputs": [],
   "source": [
    "response.status_code"
   ]
  },
  {
   "cell_type": "code",
   "execution_count": null,
   "id": "7dc179cc-c392-44ff-bcee-2b425c2aa6ef",
   "metadata": {},
   "outputs": [],
   "source": [
    "response.content"
   ]
  },
  {
   "cell_type": "code",
   "execution_count": null,
   "id": "acf20145-b657-4302-b39d-09337ea85f3c",
   "metadata": {},
   "outputs": [],
   "source": [
    "content = response.content"
   ]
  },
  {
   "cell_type": "markdown",
   "id": "4ae8f405-ec21-4dfc-b8df-d602a9e7473c",
   "metadata": {},
   "source": [
    "We specified the file_type as json because it is nice and easy to read this way. Using the json library, figure out how to load the response as a dictionary. "
   ]
  },
  {
   "cell_type": "code",
   "execution_count": null,
   "id": "59c9c78b-091c-4174-bc29-4136e984861f",
   "metadata": {},
   "outputs": [],
   "source": [
    "response_dict = json.loads(content)"
   ]
  },
  {
   "cell_type": "code",
   "execution_count": null,
   "id": "e5d8f9a5-81b7-4ebd-9646-1dbb20dcb1e0",
   "metadata": {},
   "outputs": [],
   "source": [
    "unemp_df = pd.DataFrame(response_dict['observations'])"
   ]
  },
  {
   "cell_type": "code",
   "execution_count": null,
   "id": "48a1fb90-7c21-4bac-9ad6-285a46ac3364",
   "metadata": {},
   "outputs": [],
   "source": [
    "unemp_df"
   ]
  },
  {
   "cell_type": "markdown",
   "id": "3586c2ac-5d47-465d-b1d9-9ae91b9e1135",
   "metadata": {},
   "source": [
    "Wrapping the above steps into a reusable function we can pull in another data series. The function should have one input and:<br>\n",
    "Call the API<br>\n",
    "Check if the response succeeded<br>\n",
    "Print if it fails<br>\n",
    "Read the content as JSON<br>\n",
    "Load the JSON into a dict<br>\n",
    "Return a DataFrame from the dict"
   ]
  },
  {
   "cell_type": "code",
   "execution_count": null,
   "id": "aaf60f24-6d07-4eb5-8fe3-9b62f10d5521",
   "metadata": {},
   "outputs": [],
   "source": [
    "def get_data(url):\n",
    "    response = requests.get(url)\n",
    "    if response.status_code == 200:\n",
    "        content = response.content\n",
    "        response_dict = json.loads(content)\n",
    "        data = pd.DataFrame(response_dict['observations'])\n",
    "    else: \n",
    "        print('Sorry - ths call failed. Please check your URL.')\n",
    "\n",
    "    return data          "
   ]
  },
  {
   "cell_type": "markdown",
   "id": "19f1f82e-3933-47c7-b0cd-60e9a93a0678",
   "metadata": {},
   "source": [
    "Now we pull another data set. Code from website:"
   ]
  },
  {
   "cell_type": "code",
   "execution_count": null,
   "id": "e9887c5f-c0f6-4fa7-8af5-fea015cc1357",
   "metadata": {},
   "outputs": [],
   "source": [
    "labor_id = 'LBSSA10'"
   ]
  },
  {
   "cell_type": "code",
   "execution_count": null,
   "id": "5d652822-85e6-46f0-9ca2-3179f6d97d03",
   "metadata": {},
   "outputs": [],
   "source": [
    "participation_url = base + 'series_id=' + labor_id\\\n",
    "+ '&' + 'api_key=' + mykey + '&' + 'file_type=json'"
   ]
  },
  {
   "cell_type": "code",
   "execution_count": null,
   "id": "0139c3ac-1745-4ed4-beb3-34eae6200225",
   "metadata": {},
   "outputs": [],
   "source": [
    "particip_data = get_data(participation_url)"
   ]
  },
  {
   "cell_type": "code",
   "execution_count": null,
   "id": "0c4a4fc2-ae13-47e5-82e7-c865c74256fc",
   "metadata": {},
   "outputs": [],
   "source": [
    "particip_data"
   ]
  },
  {
   "cell_type": "markdown",
   "id": "75ddb70c-63a5-4764-91a2-7001b40d0a3d",
   "metadata": {},
   "source": [
    "Now that we've done this manually, it's worth mentioning that many popular APIs have pre-built wrappers that make accessing the API super easy. These wrappers allow you to abstract with much of the boilerplate code we wrote above (constructing the URL, checking the response, reading the content, loading it, etc).\n",
    "\n",
    "For FRED, a very common one is fredapi, which can be installed via pip."
   ]
  },
  {
   "cell_type": "code",
   "execution_count": null,
   "id": "a6b8870c-86d9-4cca-ad78-bc85c7cbb777",
   "metadata": {},
   "outputs": [],
   "source": []
  }
 ],
 "metadata": {
  "kernelspec": {
   "display_name": "Python 3 (ipykernel)",
   "language": "python",
   "name": "python3"
  },
  "language_info": {
   "codemirror_mode": {
    "name": "ipython",
    "version": 3
   },
   "file_extension": ".py",
   "mimetype": "text/x-python",
   "name": "python",
   "nbconvert_exporter": "python",
   "pygments_lexer": "ipython3",
   "version": "3.12.2"
  }
 },
 "nbformat": 4,
 "nbformat_minor": 5
}
