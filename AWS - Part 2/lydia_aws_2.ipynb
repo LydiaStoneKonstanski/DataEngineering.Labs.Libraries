{
 "cells": [
  {
   "cell_type": "code",
   "execution_count": 1,
   "id": "4b763fe2-36e4-44a8-a12e-bf5be1d236a7",
   "metadata": {},
   "outputs": [],
   "source": [
    "import boto3"
   ]
  },
  {
   "cell_type": "code",
   "execution_count": 2,
   "id": "4a7a592e-be62-4014-94fb-088aa77ff756",
   "metadata": {},
   "outputs": [],
   "source": [
    "client = boto3.client('ec2')"
   ]
  },
  {
   "cell_type": "code",
   "execution_count": 3,
   "id": "e7172e4f-06aa-4461-ac6e-819b7519bacf",
   "metadata": {},
   "outputs": [],
   "source": [
    "response = client.create_key_pair(KeyName='another-ec2-key')"
   ]
  },
  {
   "cell_type": "raw",
   "id": "cf7694a4-37c2-478d-82dd-cc39f3ca5fe5",
   "metadata": {},
   "source": [
    "response"
   ]
  },
  {
   "cell_type": "markdown",
   "id": "a5f34abc-8f97-4ec4-862e-5d6b1b0f9f6e",
   "metadata": {},
   "source": [
    "(Switched above cell to Raw to remove sensitive KeyMaterial after running.)"
   ]
  },
  {
   "cell_type": "code",
   "execution_count": 5,
   "id": "97dd5e21-e406-4147-b7d6-d8a869d4f89a",
   "metadata": {},
   "outputs": [],
   "source": [
    "KeyMaterial = response['KeyMaterial']"
   ]
  },
  {
   "cell_type": "code",
   "execution_count": 7,
   "id": "f86a06b7-3620-40a0-8db2-56222d8fe45c",
   "metadata": {},
   "outputs": [],
   "source": [
    "with open('/Users/Lydia/.ssh/another-ec2-key.pem', 'w') as key:\n",
    "    key.write(KeyMaterial)"
   ]
  },
  {
   "cell_type": "code",
   "execution_count": 9,
   "id": "5ec14d50-03c2-46a5-b38f-d77efae7c67a",
   "metadata": {},
   "outputs": [],
   "source": [
    "!chmod 400 /Users/Lydia/.ssh/another-ec2-key.pem"
   ]
  },
  {
   "cell_type": "code",
   "execution_count": 10,
   "id": "21f80210-bc3e-48d2-b085-b15c833c4dc5",
   "metadata": {},
   "outputs": [],
   "source": [
    "resource = boto3.resource('ec2')"
   ]
  },
  {
   "cell_type": "code",
   "execution_count": 11,
   "id": "a86e5ffd-2fc3-4b78-a67b-2ed0755dac3b",
   "metadata": {},
   "outputs": [],
   "source": [
    "instance = resource.create_instances(\n",
    "    ImageId='ami-051f8a213df8bc089',\n",
    "    MinCount=1,\n",
    "    MaxCount=1,\n",
    "    InstanceType='t2.micro',\n",
    "    KeyName='another-ec2-key'  \n",
    ")"
   ]
  },
  {
   "cell_type": "code",
   "execution_count": 12,
   "id": "80f2ac6c-700f-42c4-8d66-352bb1247b40",
   "metadata": {},
   "outputs": [
    {
     "data": {
      "text/plain": [
       "{'InstanceStatuses': [{'AvailabilityZone': 'us-east-1b',\n",
       "   'InstanceId': 'i-00d0cc5b438a8e872',\n",
       "   'InstanceState': {'Code': 16, 'Name': 'running'},\n",
       "   'InstanceStatus': {'Details': [{'Name': 'reachability',\n",
       "      'Status': 'passed'}],\n",
       "    'Status': 'ok'},\n",
       "   'SystemStatus': {'Details': [{'Name': 'reachability', 'Status': 'passed'}],\n",
       "    'Status': 'ok'}},\n",
       "  {'AvailabilityZone': 'us-east-1b',\n",
       "   'InstanceId': 'i-0a4a5d2e01b40a3b9',\n",
       "   'InstanceState': {'Code': 16, 'Name': 'running'},\n",
       "   'InstanceStatus': {'Details': [{'Name': 'reachability',\n",
       "      'Status': 'passed'}],\n",
       "    'Status': 'ok'},\n",
       "   'SystemStatus': {'Details': [{'Name': 'reachability', 'Status': 'passed'}],\n",
       "    'Status': 'ok'}},\n",
       "  {'AvailabilityZone': 'us-east-1c',\n",
       "   'InstanceId': 'i-0b3aec96f6829efef',\n",
       "   'InstanceState': {'Code': 16, 'Name': 'running'},\n",
       "   'InstanceStatus': {'Details': [{'Name': 'reachability',\n",
       "      'Status': 'passed'}],\n",
       "    'Status': 'ok'},\n",
       "   'SystemStatus': {'Details': [{'Name': 'reachability', 'Status': 'passed'}],\n",
       "    'Status': 'ok'}}],\n",
       " 'ResponseMetadata': {'RequestId': '89da8028-7ba2-4065-b2f8-ea700ff9962a',\n",
       "  'HTTPStatusCode': 200,\n",
       "  'HTTPHeaders': {'x-amzn-requestid': '89da8028-7ba2-4065-b2f8-ea700ff9962a',\n",
       "   'cache-control': 'no-cache, no-store',\n",
       "   'strict-transport-security': 'max-age=31536000; includeSubDomains',\n",
       "   'vary': 'accept-encoding',\n",
       "   'content-type': 'text/xml;charset=UTF-8',\n",
       "   'content-length': '2883',\n",
       "   'date': 'Sun, 14 Apr 2024 17:42:15 GMT',\n",
       "   'server': 'AmazonEC2'},\n",
       "  'RetryAttempts': 0}}"
      ]
     },
     "execution_count": 12,
     "metadata": {},
     "output_type": "execute_result"
    }
   ],
   "source": [
    "status = client.describe_instance_status()\n",
    "status"
   ]
  },
  {
   "cell_type": "markdown",
   "id": "569d9e8c-1f34-49d2-b816-9e206f7f852a",
   "metadata": {},
   "source": [
    "Note: use 'ec2-user' regardless of what the actual usernames are. Can use the Public IPv4 address or the Public DNS. This example uses the IPv4:\n",
    "\n",
    "ssh -i \"/Users/Lydia/.ssh/another-ec2-key.pem\" ec2-user@44.208.26.56"
   ]
  },
  {
   "cell_type": "raw",
   "id": "b734dc91-58fb-4e3f-9283-d88a3d95a6f8",
   "metadata": {},
   "source": [
    "After successfull login, got this response:\n",
    "\n",
    "   ,     #_\n",
    "   ~\\_  ####_        Amazon Linux 2023\n",
    "  ~~  \\_#####\\\n",
    "  ~~     \\###|\n",
    "  ~~       \\#/ ___   https://aws.amazon.com/linux/amazon-linux-2023\n",
    "   ~~       V~' '->\n",
    "    ~~~         /\n",
    "      ~~._.   _/\n",
    "         _/ _/\n",
    "       _/m/'\n",
    "[ec2-user@ip-172-31-87-35 ~]$ \n"
   ]
  }
 ],
 "metadata": {
  "kernelspec": {
   "display_name": "Python 3 (ipykernel)",
   "language": "python",
   "name": "python3"
  },
  "language_info": {
   "codemirror_mode": {
    "name": "ipython",
    "version": 3
   },
   "file_extension": ".py",
   "mimetype": "text/x-python",
   "name": "python",
   "nbconvert_exporter": "python",
   "pygments_lexer": "ipython3",
   "version": "3.12.2"
  }
 },
 "nbformat": 4,
 "nbformat_minor": 5
}
