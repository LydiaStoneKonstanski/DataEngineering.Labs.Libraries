{
 "cells": [
  {
   "cell_type": "code",
   "execution_count": 1,
   "id": "53d31313-5311-4374-95d1-0bb6d48d7231",
   "metadata": {},
   "outputs": [
    {
     "name": "stdout",
     "output_type": "stream",
     "text": [
      "Requirement already satisfied: chromedriver in /Users/lydia/Library/jupyterlab-desktop/jlab_server/lib/python3.12/site-packages (2.24.1)\n"
     ]
    }
   ],
   "source": [
    "!pip install chromedriver"
   ]
  },
  {
   "cell_type": "code",
   "execution_count": 2,
   "id": "7cd2b025-1b89-42aa-93af-8f83c94fe942",
   "metadata": {},
   "outputs": [],
   "source": [
    "import selenium\n",
    "from selenium import webdriver\n",
    "\n",
    "import bs4\n",
    "from bs4 import BeautifulSoup"
   ]
  },
  {
   "cell_type": "code",
   "execution_count": 3,
   "id": "410884bd-4dd0-46b3-b0c9-31522d570259",
   "metadata": {},
   "outputs": [],
   "source": [
    "driver = webdriver.Chrome()"
   ]
  },
  {
   "cell_type": "code",
   "execution_count": 4,
   "id": "ed2546bb-f9fe-4eeb-8100-c59fa23ed6bb",
   "metadata": {},
   "outputs": [],
   "source": [
    "driver.get('http://books.toscrape.com/')"
   ]
  },
  {
   "cell_type": "code",
   "execution_count": 5,
   "id": "8559a088-45ca-4187-ba32-6fc194b2fd4e",
   "metadata": {},
   "outputs": [],
   "source": [
    "title_element = driver.find_element(\"xpath\", '//*[@id=\"default\"]/div/div/div/div/section/div[2]/ol/li[2]/article/h3/a')"
   ]
  },
  {
   "cell_type": "code",
   "execution_count": 6,
   "id": "6bfbde83-965e-4784-84a3-614fdcb84a13",
   "metadata": {},
   "outputs": [
    {
     "data": {
      "text/plain": [
       "'Tipping the Velvet'"
      ]
     },
     "execution_count": 6,
     "metadata": {},
     "output_type": "execute_result"
    }
   ],
   "source": [
    "title = title_element.text\n",
    "title"
   ]
  },
  {
   "cell_type": "code",
   "execution_count": 7,
   "id": "5ecfce91-4811-4b06-93c5-77cb4f595c8c",
   "metadata": {},
   "outputs": [
    {
     "data": {
      "text/plain": [
       "'Tipping the Velvet'"
      ]
     },
     "execution_count": 7,
     "metadata": {},
     "output_type": "execute_result"
    }
   ],
   "source": [
    "title = title_element.get_attribute('title')\n",
    "title"
   ]
  },
  {
   "cell_type": "code",
   "execution_count": 8,
   "id": "a69c3084-405d-465d-ac0d-bbe7db0d6c97",
   "metadata": {},
   "outputs": [
    {
     "name": "stdout",
     "output_type": "stream",
     "text": [
      "Magic! I've scraped 20 titles!\n"
     ]
    }
   ],
   "source": [
    "title_list = []\n",
    "for i in range(1,21): \n",
    "    title_element = driver.find_element(\"xpath\", '//*[@id=\"default\"]/div/div/div/div/section/div[2]/ol/li[2]/article/h3/a'.format(i))\n",
    "    title_list.append(title_element.get_attribute('title'))\n",
    "\n",
    "print(f'Magic! I\\'ve scraped {len(title_list)} titles!')\n"
   ]
  },
  {
   "cell_type": "raw",
   "id": "a63f5f0d-9c98-46d7-9d61-3243ab763bf3",
   "metadata": {},
   "source": [
    "title_list = []\n",
    "for i in range(1,51):\n",
    "\n",
    "    driver.get('http://books.toscrape.com/catalogue/page-{}.html'.format(i))\n",
    "\n",
    "    for x in range(1,21): \n",
    "        title_element = driver.find_element(\"xpath\", '//*[@id=\"default\"]/div/div/div/div/section/div[2]/ol/li[{}]/article/h3/a'.format(x))\n",
    "        title_list.append(title_element.get_attribute('title'))\n",
    "\n",
    "driver.quit()\n",
    "\n",
    "print(f'Magic! I\\'ve scraped {(len(title_list))} titles!')"
   ]
  },
  {
   "cell_type": "markdown",
   "id": "b6a65282-13b7-4d9b-a253-5c518a3ff6af",
   "metadata": {},
   "source": [
    "It seems like html xref might be 1-based instead of zero based because A Light in the Attic is the first..."
   ]
  },
  {
   "cell_type": "raw",
   "id": "5e32aece-8cc4-4308-9be4-7e6b83f3b91b",
   "metadata": {},
   "source": [
    "print(title_list)"
   ]
  },
  {
   "cell_type": "code",
   "execution_count": 10,
   "id": "3fc15a8f-4ccd-4fb0-8d24-2e8b0afdf906",
   "metadata": {},
   "outputs": [
    {
     "name": "stdout",
     "output_type": "stream",
     "text": [
      "Magic! I've scraped 1000 titles!\n"
     ]
    }
   ],
   "source": [
    "from selenium.webdriver.chrome.options import Options\n",
    "\n",
    "options = Options()\n",
    "options.headless = True\n",
    "driver = webdriver.Chrome(options=options)\n",
    "\n",
    "title_list = []\n",
    "\n",
    "for i in range(1,51):\n",
    "    driver.get('http://books.toscrape.com/catalogue/page-{}.html'.format(i))\n",
    "    for x in range(1,21):\n",
    "\n",
    "        title_element = driver.find_element(\"xpath\", '//*[@id=\"default\"]/div/div/div/div/section/div[2]/ol/li[{}]/article/h3/a'.format(x))\n",
    "        title_list.append(title_element.get_attribute('title'))\n",
    "\n",
    "driver.quit()\n",
    "\n",
    "print('Magic! I\\'ve scraped {} titles!'.format(len(title_list)))"
   ]
  },
  {
   "cell_type": "code",
   "execution_count": null,
   "id": "85566d4b-246a-4939-9f96-140fab4fa67b",
   "metadata": {},
   "outputs": [],
   "source": []
  }
 ],
 "metadata": {
  "kernelspec": {
   "display_name": "Python 3 (ipykernel)",
   "language": "python",
   "name": "python3"
  },
  "language_info": {
   "codemirror_mode": {
    "name": "ipython",
    "version": 3
   },
   "file_extension": ".py",
   "mimetype": "text/x-python",
   "name": "python",
   "nbconvert_exporter": "python",
   "pygments_lexer": "ipython3",
   "version": "3.12.2"
  }
 },
 "nbformat": 4,
 "nbformat_minor": 5
}
